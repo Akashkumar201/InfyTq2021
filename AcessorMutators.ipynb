{
 "cells": [
  {
   "cell_type": "code",
   "execution_count": 7,
   "metadata": {},
   "outputs": [],
   "source": [
    "class Student:\n",
    "    school=\"Trident Academy Of Technology\"\n",
    "    def __init__(self,m1,m2,m3):\n",
    "        self.m1=m1\n",
    "        self.m2=m2\n",
    "        self.m3=m3\n",
    "    def avg(self):\n",
    "        return (self.m1+self.m2+self.m3)/3\n",
    "    def update(self,avg):\n",
    "        self.m1=avg\n",
    "    def getValue(self):\n",
    "        return self.avg()"
   ]
  },
  {
   "cell_type": "code",
   "execution_count": 30,
   "metadata": {},
   "outputs": [
    {
     "data": {
      "text/plain": [
       "73.66666666666667"
      ]
     },
     "execution_count": 30,
     "metadata": {},
     "output_type": "execute_result"
    }
   ],
   "source": [
    "s=Student(90,55,66)\n",
    "s.avg()\n",
    "s.update(100)\n",
    "s.getValue()\n"
   ]
  },
  {
   "cell_type": "code",
   "execution_count": 31,
   "metadata": {},
   "outputs": [
    {
     "data": {
      "text/plain": [
       "73.66666666666667"
      ]
     },
     "execution_count": 31,
     "metadata": {},
     "output_type": "execute_result"
    }
   ],
   "source": [
    "s.avg()"
   ]
  },
  {
   "cell_type": "code",
   "execution_count": 32,
   "metadata": {},
   "outputs": [
    {
     "data": {
      "text/plain": [
       "73.66666666666667"
      ]
     },
     "execution_count": 32,
     "metadata": {},
     "output_type": "execute_result"
    }
   ],
   "source": [
    "s.getValue()"
   ]
  },
  {
   "cell_type": "code",
   "execution_count": 4,
   "metadata": {},
   "outputs": [],
   "source": [
    "class Student:\n",
    "    school=\"Trident Academy Of Technology\"\n",
    "    def __init__(self,m11,m22,m33):\n",
    "        self.m1=m11\n",
    "        self.m2=m22\n",
    "        self.m3=m33\n",
    "    def avg(self):\n",
    "        return (self.m1+self.m2+self.m3)/3\n",
    "    def update(self,avg):\n",
    "        self.m1=avg\n",
    "    def getValue(self):\n",
    "        return self.avg()\n",
    "    @classmethod\n",
    "    def getschool(cls):\n",
    "        return cls.school\n",
    "    @staticmethod\n",
    "    def staticfuction():\n",
    "        print(\"This is static info about student\")\n",
    "    "
   ]
  },
  {
   "cell_type": "code",
   "execution_count": 5,
   "metadata": {},
   "outputs": [
    {
     "name": "stdout",
     "output_type": "stream",
     "text": [
      "Trident Academy Of Technology\n",
      "Trident Academy Of Technology\n"
     ]
    }
   ],
   "source": [
    "s=Student(90,55,66)\n",
    "\n",
    "print(s.getschool())\n",
    "\n",
    "print(Student.getschool())\n"
   ]
  },
  {
   "cell_type": "code",
   "execution_count": 6,
   "metadata": {},
   "outputs": [],
   "source": [
    "class Student:\n",
    "    def __init__(self,name,rolno,a,b):\n",
    "        print(\"inside Student init\")\n",
    "        self.name=name\n",
    "        self.rolno=rolno\n",
    "        self.lap=self.Laptop(a,b)\n",
    "    def show(self):\n",
    "        print(\"inside Stdent show\")\n",
    "        print(self.name,self.rolno)\n",
    "        self.lap.show()\n",
    "        \n",
    "    class Laptop:\n",
    "        def __init__(self,a,b):\n",
    "            print(\"inside Lap init\")\n",
    "            self.cpu=a\n",
    "            self.lanmark=b\n",
    "        def show(self):\n",
    "            print(\"inside Laptop show\")\n",
    "            print(self.cpu,self.lanmark)"
   ]
  },
  {
   "cell_type": "code",
   "execution_count": 19,
   "metadata": {},
   "outputs": [
    {
     "name": "stdout",
     "output_type": "stream",
     "text": [
      "inside Student init\n",
      "inside Lap init\n",
      "inside Stdent show\n",
      "Vikrant 6\n",
      "inside Laptop show\n",
      "i5 Dell\n"
     ]
    }
   ],
   "source": [
    "s=Student(\"Vikrant\",6,\"i5\",\"Dell\")\n",
    "s.show()"
   ]
  },
  {
   "cell_type": "code",
   "execution_count": 6,
   "metadata": {},
   "outputs": [],
   "source": [
    "class Phone:\n",
    "    def FeatureA(self):\n",
    "        print(\"Simple Calling Is Working....\")\n",
    "    def FeatureB(self):\n",
    "        print(\"Listning Radio.......\")\n",
    "class Mobile(Phone):\n",
    "    def FeatureC(self):\n",
    "        print(\"Video Call and Games\")"
   ]
  },
  {
   "cell_type": "code",
   "execution_count": 8,
   "metadata": {},
   "outputs": [
    {
     "name": "stdout",
     "output_type": "stream",
     "text": [
      "Simple Calling Is Working....\n",
      "Listning Radio.......\n",
      "Video Call and Games\n"
     ]
    }
   ],
   "source": [
    "s=Mobile()\n",
    "s.FeatureA()\n",
    "s.FeatureB()\n",
    "s.FeatureC()"
   ]
  },
  {
   "cell_type": "code",
   "execution_count": 10,
   "metadata": {},
   "outputs": [],
   "source": [
    "#Multiple Inheritance\n"
   ]
  },
  {
   "cell_type": "code",
   "execution_count": null,
   "metadata": {},
   "outputs": [],
   "source": [
    "class Phone:\n",
    "    def FeatureA(self):\n",
    "        print(\"Simple Calling Is Working....\")\n",
    "    def FeatureB(self):\n",
    "        print(\"Listning Radio.......\")\n",
    "class Mobile():\n",
    "    def FeatureC(self):\n",
    "        print(\"Video Call and Games\")\n",
    "class SmartPhone(Mobile,Phone):\n",
    "    def FeatureD(self):\n",
    "        print(\"Social Media with auto call feature\")\n",
    "s=SmartPhone()\n",
    "s.FeatureD()\n",
    "s.FeatureB()\n",
    "s.FeatureC()\n",
    "s.FeatureA()"
   ]
  },
  {
   "cell_type": "code",
   "execution_count": 12,
   "metadata": {},
   "outputs": [],
   "source": [
    "###Multiple Inheritance wih constructor\n"
   ]
  },
  {
   "cell_type": "code",
   "execution_count": 14,
   "metadata": {},
   "outputs": [
    {
     "ename": "IndentationError",
     "evalue": "unindent does not match any outer indentation level (<tokenize>, line 11)",
     "output_type": "error",
     "traceback": [
      "\u001b[1;36m  File \u001b[1;32m\"<tokenize>\"\u001b[1;36m, line \u001b[1;32m11\u001b[0m\n\u001b[1;33m    def FeatureC(self):\u001b[0m\n\u001b[1;37m    ^\u001b[0m\n\u001b[1;31mIndentationError\u001b[0m\u001b[1;31m:\u001b[0m unindent does not match any outer indentation level\n"
     ]
    }
   ],
   "source": [
    "class Phone:\n",
    "    def __init__(self):\n",
    "        print(\"Inside Phone INIT\")\n",
    "    def FeatureA(self):\n",
    "        print(\"Simple Calling Is Working....\")\n",
    "    def FeatureB(self):\n",
    "        print(\"Listning Radio.......\")\n",
    "class Mobile():\n",
    "        def __init__(self):\n",
    "        print(\"Inside Phone INIT\")\n",
    "    def FeatureC(self):\n",
    "        print(\"Video Call and Games\")\n",
    "class SmartPhone(Mobile,Phone):\n",
    "        def __init__(self):\n",
    "        print(\"Inside Phone INIT\")\n",
    "    def FeatureD(self):\n",
    "        print(\"Social Media with auto call feature\")\n",
    "s=SmartPhone()\n",
    "s.FeatureD()\n",
    "s.FeatureB()\n",
    "s.FeatureC()\n",
    "s.FeatureA()"
   ]
  },
  {
   "cell_type": "code",
   "execution_count": 15,
   "metadata": {},
   "outputs": [
    {
     "name": "stdout",
     "output_type": "stream",
     "text": [
      "Inside Phone INIT\n"
     ]
    }
   ],
   "source": [
    "class Phone:\n",
    "    def __init__(self):\n",
    "        print(\"Inside Phone INIT\")\n",
    "    def FeatureA(self):\n",
    "        print(\"Simple Calling Is Working....\")\n",
    "    def FeatureB(self):\n",
    "        print(\"Listning Radio.......\")\n",
    "p=Phone()"
   ]
  },
  {
   "cell_type": "code",
   "execution_count": 20,
   "metadata": {},
   "outputs": [
    {
     "name": "stdout",
     "output_type": "stream",
     "text": [
      "Inside Phone INIT\n",
      "Inside Mobile INIT\n"
     ]
    }
   ],
   "source": [
    "class Phone:\n",
    "    def __init__(self):\n",
    "        print(\"Inside Phone INIT\")\n",
    "    def FeatureA(self):\n",
    "        print(\"Simple Calling Is Working....\")\n",
    "    def FeatureB(self):\n",
    "        print(\"Listning Radio.......\")\n",
    "class Mobile(Phone):\n",
    "    def __init__(self):\n",
    "        super().__init__()\n",
    "        print(\"Inside Mobile INIT\")\n",
    "    def FeatureC(self):\n",
    "        print(\"Video Call and Games\")\n",
    "p=Mobile()"
   ]
  },
  {
   "cell_type": "code",
   "execution_count": 21,
   "metadata": {},
   "outputs": [
    {
     "name": "stdout",
     "output_type": "stream",
     "text": [
      "Inside Phone INIT\n",
      "Inside Phone Mobile\n",
      "Inside Smartphone\n"
     ]
    }
   ],
   "source": [
    "class Phone:\n",
    "    def __init__(self):\n",
    "        print(\"Inside Phone INIT\")\n",
    "    def FeatureA(self):\n",
    "        print(\"Simple Calling Is Working....\")\n",
    "    def FeatureB(self):\n",
    "        print(\"Listning Radio.......\")\n",
    "class Mobile(Phone):\n",
    "    def __init__(self):\n",
    "        super(Mobile, self).__init__()\n",
    "        print(\"Inside Phone Mobile\")\n",
    "    def FeatureC(self):\n",
    "        print(\"Video Call and Games\")\n",
    "class SmartPhone(Mobile):\n",
    "    def __init__(self):\n",
    "        super(SmartPhone, self).__init__()\n",
    "        print(\"Inside Smartphone\")\n",
    "    def FeatureD(self):\n",
    "        print(\"Social Media with auto call feature\")\n",
    "p=SmartPhone()"
   ]
  },
  {
   "cell_type": "code",
   "execution_count": 22,
   "metadata": {},
   "outputs": [
    {
     "name": "stdout",
     "output_type": "stream",
     "text": [
      "Inside Phone INIT\n",
      "Inside Smartphone\n"
     ]
    }
   ],
   "source": [
    "class Phone:\n",
    "    def __init__(self):\n",
    "        print(\"Inside Phone INIT\")\n",
    "    def FeatureA(self):\n",
    "        print(\"Simple Calling Is Working....\")\n",
    "    def FeatureB(self):\n",
    "        print(\"Listning Radio.......\")\n",
    "class Mobile:\n",
    "    def __init__(self):\n",
    "\n",
    "        print(\"Inside Phone Mobile\")\n",
    "    def FeatureC(self):\n",
    "        print(\"Video Call and Games\")\n",
    "class SmartPhone(Phone,Mobile):\n",
    "    def __init__(self):\n",
    "        super(SmartPhone, self).__init__()\n",
    "        print(\"Inside Smartphone\")\n",
    "    def FeatureD(self):\n",
    "        print(\"Social Media with auto call feature\")\n",
    "p=SmartPhone()"
   ]
  },
  {
   "cell_type": "code",
   "execution_count": 8,
   "metadata": {},
   "outputs": [],
   "source": [
    "##Try Catch"
   ]
  },
  {
   "cell_type": "code",
   "execution_count": null,
   "metadata": {},
   "outputs": [],
   "source": []
  },
  {
   "cell_type": "code",
   "execution_count": null,
   "metadata": {},
   "outputs": [],
   "source": []
  },
  {
   "cell_type": "code",
   "execution_count": null,
   "metadata": {},
   "outputs": [],
   "source": []
  }
 ],
 "metadata": {
  "kernelspec": {
   "display_name": "Python 3",
   "language": "python",
   "name": "python3"
  },
  "language_info": {
   "codemirror_mode": {
    "name": "ipython",
    "version": 3
   },
   "file_extension": ".py",
   "mimetype": "text/x-python",
   "name": "python",
   "nbconvert_exporter": "python",
   "pygments_lexer": "ipython3",
   "version": "3.7.4"
  }
 },
 "nbformat": 4,
 "nbformat_minor": 2
}
