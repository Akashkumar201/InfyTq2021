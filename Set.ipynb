{
 "cells": [
  {
   "cell_type": "code",
   "execution_count": 7,
   "metadata": {},
   "outputs": [],
   "source": [
    "myset={1,2,3,4,4,4}"
   ]
  },
  {
   "cell_type": "code",
   "execution_count": 8,
   "metadata": {},
   "outputs": [
    {
     "data": {
      "text/plain": [
       "{1, 2, 3, 4}"
      ]
     },
     "execution_count": 8,
     "metadata": {},
     "output_type": "execute_result"
    }
   ],
   "source": [
    "myset"
   ]
  },
  {
   "cell_type": "code",
   "execution_count": 9,
   "metadata": {},
   "outputs": [],
   "source": [
    "mys={\"Hello\",1.3,5}"
   ]
  },
  {
   "cell_type": "code",
   "execution_count": 10,
   "metadata": {},
   "outputs": [
    {
     "data": {
      "text/plain": [
       "{1.3, 5, 'Hello'}"
      ]
     },
     "execution_count": 10,
     "metadata": {},
     "output_type": "execute_result"
    }
   ],
   "source": [
    "mys"
   ]
  },
  {
   "cell_type": "code",
   "execution_count": 11,
   "metadata": {},
   "outputs": [
    {
     "data": {
      "text/plain": [
       "set"
      ]
     },
     "execution_count": 11,
     "metadata": {},
     "output_type": "execute_result"
    }
   ],
   "source": [
    "type(myset)"
   ]
  },
  {
   "cell_type": "code",
   "execution_count": 12,
   "metadata": {},
   "outputs": [
    {
     "data": {
      "text/plain": [
       "set"
      ]
     },
     "execution_count": 12,
     "metadata": {},
     "output_type": "execute_result"
    }
   ],
   "source": [
    "type(myset)"
   ]
  },
  {
   "cell_type": "code",
   "execution_count": 13,
   "metadata": {},
   "outputs": [
    {
     "ename": "TypeError",
     "evalue": "unhashable type: 'list'",
     "output_type": "error",
     "traceback": [
      "\u001b[1;31m---------------------------------------------------------------------------\u001b[0m",
      "\u001b[1;31mTypeError\u001b[0m                                 Traceback (most recent call last)",
      "\u001b[1;32m<ipython-input-13-e1282a4a176b>\u001b[0m in \u001b[0;36m<module>\u001b[1;34m\u001b[0m\n\u001b[1;32m----> 1\u001b[1;33m \u001b[0mmyset\u001b[0m\u001b[1;33m=\u001b[0m\u001b[1;33m{\u001b[0m\u001b[1;36m1\u001b[0m\u001b[1;33m,\u001b[0m\u001b[1;36m2\u001b[0m\u001b[1;33m,\u001b[0m\u001b[1;36m3\u001b[0m\u001b[1;33m,\u001b[0m\u001b[1;36m4\u001b[0m\u001b[1;33m,\u001b[0m\u001b[1;33m[\u001b[0m\u001b[1;36m1\u001b[0m\u001b[1;33m,\u001b[0m\u001b[1;36m2\u001b[0m\u001b[1;33m,\u001b[0m\u001b[1;36m3\u001b[0m\u001b[1;33m]\u001b[0m\u001b[1;33m}\u001b[0m\u001b[1;33m\u001b[0m\u001b[1;33m\u001b[0m\u001b[0m\n\u001b[0m",
      "\u001b[1;31mTypeError\u001b[0m: unhashable type: 'list'"
     ]
    }
   ],
   "source": [
    "myset={1,2,3,4,[1,2,3]}"
   ]
  },
  {
   "cell_type": "code",
   "execution_count": 14,
   "metadata": {},
   "outputs": [],
   "source": [
    "myset=set([1,2,3,4])"
   ]
  },
  {
   "cell_type": "code",
   "execution_count": 15,
   "metadata": {},
   "outputs": [
    {
     "data": {
      "text/plain": [
       "{1, 2, 3, 4}"
      ]
     },
     "execution_count": 15,
     "metadata": {},
     "output_type": "execute_result"
    }
   ],
   "source": [
    "myset"
   ]
  },
  {
   "cell_type": "code",
   "execution_count": 16,
   "metadata": {},
   "outputs": [
    {
     "ename": "TypeError",
     "evalue": "unhashable type: 'list'",
     "output_type": "error",
     "traceback": [
      "\u001b[1;31m---------------------------------------------------------------------------\u001b[0m",
      "\u001b[1;31mTypeError\u001b[0m                                 Traceback (most recent call last)",
      "\u001b[1;32m<ipython-input-16-8377226e0e99>\u001b[0m in \u001b[0;36m<module>\u001b[1;34m\u001b[0m\n\u001b[1;32m----> 1\u001b[1;33m \u001b[0mmy_set\u001b[0m \u001b[1;33m=\u001b[0m \u001b[1;33m{\u001b[0m\u001b[1;36m1\u001b[0m\u001b[1;33m,\u001b[0m \u001b[1;36m2\u001b[0m\u001b[1;33m,\u001b[0m \u001b[1;33m[\u001b[0m\u001b[1;36m3\u001b[0m\u001b[1;33m,\u001b[0m \u001b[1;36m4\u001b[0m\u001b[1;33m]\u001b[0m\u001b[1;33m}\u001b[0m\u001b[1;33m\u001b[0m\u001b[1;33m\u001b[0m\u001b[0m\n\u001b[0m",
      "\u001b[1;31mTypeError\u001b[0m: unhashable type: 'list'"
     ]
    }
   ],
   "source": [
    "my_set = {1, 2, [3, 4]}"
   ]
  },
  {
   "cell_type": "code",
   "execution_count": 21,
   "metadata": {},
   "outputs": [
    {
     "name": "stdout",
     "output_type": "stream",
     "text": [
      "<class 'set'>\n"
     ]
    }
   ],
   "source": [
    "print(type(set()))"
   ]
  },
  {
   "cell_type": "code",
   "execution_count": 22,
   "metadata": {},
   "outputs": [
    {
     "data": {
      "text/plain": [
       "{1, 2, 3, 4}"
      ]
     },
     "execution_count": 22,
     "metadata": {},
     "output_type": "execute_result"
    }
   ],
   "source": [
    "myset"
   ]
  },
  {
   "cell_type": "code",
   "execution_count": 25,
   "metadata": {},
   "outputs": [
    {
     "ename": "TypeError",
     "evalue": "'set' object is not subscriptable",
     "output_type": "error",
     "traceback": [
      "\u001b[1;31m---------------------------------------------------------------------------\u001b[0m",
      "\u001b[1;31mTypeError\u001b[0m                                 Traceback (most recent call last)",
      "\u001b[1;32m<ipython-input-25-b0cb691beed5>\u001b[0m in \u001b[0;36m<module>\u001b[1;34m\u001b[0m\n\u001b[1;32m----> 1\u001b[1;33m \u001b[0mmyset\u001b[0m\u001b[1;33m[\u001b[0m\u001b[1;36m1\u001b[0m\u001b[1;33m:\u001b[0m\u001b[1;36m3\u001b[0m\u001b[1;33m]\u001b[0m\u001b[1;33m\u001b[0m\u001b[1;33m\u001b[0m\u001b[0m\n\u001b[0m",
      "\u001b[1;31mTypeError\u001b[0m: 'set' object is not subscriptable"
     ]
    }
   ],
   "source": [
    "myset[1:3]"
   ]
  },
  {
   "cell_type": "markdown",
   "metadata": {},
   "source": [
    "myset.add(5"
   ]
  },
  {
   "cell_type": "code",
   "execution_count": 27,
   "metadata": {},
   "outputs": [],
   "source": [
    "myset.add(55)"
   ]
  },
  {
   "cell_type": "code",
   "execution_count": 28,
   "metadata": {},
   "outputs": [
    {
     "data": {
      "text/plain": [
       "{1, 2, 3, 4, 55}"
      ]
     },
     "execution_count": 28,
     "metadata": {},
     "output_type": "execute_result"
    }
   ],
   "source": [
    "myset"
   ]
  },
  {
   "cell_type": "code",
   "execution_count": 30,
   "metadata": {},
   "outputs": [],
   "source": [
    "myset.remove(4)"
   ]
  },
  {
   "cell_type": "markdown",
   "metadata": {},
   "source": [
    "myset"
   ]
  },
  {
   "cell_type": "code",
   "execution_count": 31,
   "metadata": {},
   "outputs": [
    {
     "data": {
      "text/plain": [
       "{1, 2, 3, 55}"
      ]
     },
     "execution_count": 31,
     "metadata": {},
     "output_type": "execute_result"
    }
   ],
   "source": [
    "myset"
   ]
  },
  {
   "cell_type": "code",
   "execution_count": 32,
   "metadata": {},
   "outputs": [],
   "source": [
    "myset.remove(2)"
   ]
  },
  {
   "cell_type": "code",
   "execution_count": 33,
   "metadata": {},
   "outputs": [
    {
     "data": {
      "text/plain": [
       "{1, 3, 55}"
      ]
     },
     "execution_count": 33,
     "metadata": {},
     "output_type": "execute_result"
    }
   ],
   "source": [
    "myset"
   ]
  },
  {
   "cell_type": "code",
   "execution_count": 39,
   "metadata": {},
   "outputs": [],
   "source": [
    "myset.update([111,2,3])"
   ]
  },
  {
   "cell_type": "code",
   "execution_count": 41,
   "metadata": {},
   "outputs": [],
   "source": [
    "myset.add(0)"
   ]
  },
  {
   "cell_type": "code",
   "execution_count": null,
   "metadata": {},
   "outputs": [],
   "source": []
  },
  {
   "cell_type": "code",
   "execution_count": 42,
   "metadata": {},
   "outputs": [
    {
     "data": {
      "text/plain": [
       "{0, 1, 2, 3, 55, 111}"
      ]
     },
     "execution_count": 42,
     "metadata": {},
     "output_type": "execute_result"
    }
   ],
   "source": [
    "myset"
   ]
  },
  {
   "cell_type": "code",
   "execution_count": 45,
   "metadata": {},
   "outputs": [],
   "source": [
    "myset.discard(211)"
   ]
  },
  {
   "cell_type": "code",
   "execution_count": 47,
   "metadata": {},
   "outputs": [
    {
     "ename": "KeyError",
     "evalue": "211",
     "output_type": "error",
     "traceback": [
      "\u001b[1;31m---------------------------------------------------------------------------\u001b[0m",
      "\u001b[1;31mKeyError\u001b[0m                                  Traceback (most recent call last)",
      "\u001b[1;32m<ipython-input-47-bc042d30faab>\u001b[0m in \u001b[0;36m<module>\u001b[1;34m\u001b[0m\n\u001b[1;32m----> 1\u001b[1;33m \u001b[0mmyset\u001b[0m\u001b[1;33m.\u001b[0m\u001b[0mremove\u001b[0m\u001b[1;33m(\u001b[0m\u001b[1;36m211\u001b[0m\u001b[1;33m)\u001b[0m\u001b[1;33m\u001b[0m\u001b[1;33m\u001b[0m\u001b[0m\n\u001b[0m",
      "\u001b[1;31mKeyError\u001b[0m: 211"
     ]
    }
   ],
   "source": [
    "myset.remove(211)"
   ]
  },
  {
   "cell_type": "code",
   "execution_count": 61,
   "metadata": {},
   "outputs": [],
   "source": [
    "val=set(\"Hello\")"
   ]
  },
  {
   "cell_type": "code",
   "execution_count": 62,
   "metadata": {},
   "outputs": [
    {
     "data": {
      "text/plain": [
       "{'H', 'e', 'l', 'o'}"
      ]
     },
     "execution_count": 62,
     "metadata": {},
     "output_type": "execute_result"
    }
   ],
   "source": [
    "val"
   ]
  },
  {
   "cell_type": "code",
   "execution_count": 63,
   "metadata": {},
   "outputs": [
    {
     "data": {
      "text/plain": [
       "'e'"
      ]
     },
     "execution_count": 63,
     "metadata": {},
     "output_type": "execute_result"
    }
   ],
   "source": [
    "val.pop()"
   ]
  },
  {
   "cell_type": "code",
   "execution_count": 67,
   "metadata": {},
   "outputs": [
    {
     "data": {
      "text/plain": [
       "{1, 'H', 'l', 'o'}"
      ]
     },
     "execution_count": 67,
     "metadata": {},
     "output_type": "execute_result"
    }
   ],
   "source": [
    "val"
   ]
  },
  {
   "cell_type": "code",
   "execution_count": 68,
   "metadata": {},
   "outputs": [],
   "source": [
    "\n",
    "val.add(1)"
   ]
  },
  {
   "cell_type": "code",
   "execution_count": 69,
   "metadata": {},
   "outputs": [],
   "source": [
    "new=val.copy()"
   ]
  },
  {
   "cell_type": "code",
   "execution_count": 70,
   "metadata": {},
   "outputs": [
    {
     "data": {
      "text/plain": [
       "{1, 'H', 'l', 'o'}"
      ]
     },
     "execution_count": 70,
     "metadata": {},
     "output_type": "execute_result"
    }
   ],
   "source": [
    "new"
   ]
  },
  {
   "cell_type": "code",
   "execution_count": 71,
   "metadata": {},
   "outputs": [],
   "source": [
    "new.clear()"
   ]
  },
  {
   "cell_type": "code",
   "execution_count": 72,
   "metadata": {},
   "outputs": [
    {
     "data": {
      "text/plain": [
       "set()"
      ]
     },
     "execution_count": 72,
     "metadata": {},
     "output_type": "execute_result"
    }
   ],
   "source": [
    "new\n"
   ]
  },
  {
   "cell_type": "code",
   "execution_count": 107,
   "metadata": {},
   "outputs": [],
   "source": [
    "a={1,2,3,4,5}"
   ]
  },
  {
   "cell_type": "code",
   "execution_count": 108,
   "metadata": {},
   "outputs": [],
   "source": [
    "b={4,6,7,8,9,}"
   ]
  },
  {
   "cell_type": "code",
   "execution_count": 109,
   "metadata": {},
   "outputs": [
    {
     "data": {
      "text/plain": [
       "{1, 2, 3, 4, 5, 6, 7, 8, 9}"
      ]
     },
     "execution_count": 109,
     "metadata": {},
     "output_type": "execute_result"
    }
   ],
   "source": [
    "a.union(b)"
   ]
  },
  {
   "cell_type": "code",
   "execution_count": 110,
   "metadata": {},
   "outputs": [
    {
     "data": {
      "text/plain": [
       "{4}"
      ]
     },
     "execution_count": 110,
     "metadata": {},
     "output_type": "execute_result"
    }
   ],
   "source": [
    "a.intersection(b)"
   ]
  },
  {
   "cell_type": "code",
   "execution_count": 111,
   "metadata": {},
   "outputs": [
    {
     "name": "stdout",
     "output_type": "stream",
     "text": [
      "{1, 2, 3, 5}\n",
      "{8, 9, 6, 7}\n"
     ]
    }
   ],
   "source": [
    "print(a-b)\n",
    "print(b-a)"
   ]
  },
  {
   "cell_type": "code",
   "execution_count": 112,
   "metadata": {},
   "outputs": [
    {
     "name": "stdout",
     "output_type": "stream",
     "text": [
      "{4}\n"
     ]
    }
   ],
   "source": [
    "print(a&b)"
   ]
  },
  {
   "cell_type": "code",
   "execution_count": 113,
   "metadata": {},
   "outputs": [
    {
     "data": {
      "text/plain": [
       "{1, 2, 3, 5, 6, 7, 8, 9}"
      ]
     },
     "execution_count": 113,
     "metadata": {},
     "output_type": "execute_result"
    }
   ],
   "source": [
    "b.symmetric_difference(a)"
   ]
  },
  {
   "cell_type": "code",
   "execution_count": 121,
   "metadata": {},
   "outputs": [
    {
     "name": "stdout",
     "output_type": "stream",
     "text": [
      "None\n"
     ]
    }
   ],
   "source": [
    "b.symmetric_difference_update(a)\n",
    "print(val)"
   ]
  },
  {
   "cell_type": "code",
   "execution_count": 122,
   "metadata": {},
   "outputs": [
    {
     "data": {
      "text/plain": [
       "{1, 5, 6, 7, 8, 9}"
      ]
     },
     "execution_count": 122,
     "metadata": {},
     "output_type": "execute_result"
    }
   ],
   "source": [
    "b.symmetric_difference(a)"
   ]
  },
  {
   "cell_type": "code",
   "execution_count": 123,
   "metadata": {},
   "outputs": [
    {
     "name": "stdout",
     "output_type": "stream",
     "text": [
      "A = {'e', 'a'}\n",
      "B = {'e', 'c', 'd'}\n",
      "result = None\n",
      "result = {'a', 'c', 'd'}\n"
     ]
    }
   ],
   "source": [
    "A = {'a', 'c', 'd'}\n",
    "B = {'c', 'd', 'e' }\n",
    "\n",
    "result = A.symmetric_difference_update(B)\n",
    "result2 = A.symmetric_difference(B)\n",
    "print('A =', A)\n",
    "print('B =', B)\n",
    "print('result =', result)\n",
    "print('result =', result2)"
   ]
  },
  {
   "cell_type": "code",
   "execution_count": 127,
   "metadata": {},
   "outputs": [],
   "source": [
    "A = {'a', 'c', 'd'}\n",
    "B = {'d', 'de', 'e' }"
   ]
  },
  {
   "cell_type": "code",
   "execution_count": 128,
   "metadata": {},
   "outputs": [
    {
     "data": {
      "text/plain": [
       "False"
      ]
     },
     "execution_count": 128,
     "metadata": {},
     "output_type": "execute_result"
    }
   ],
   "source": [
    "A.isdisjoint(B)"
   ]
  },
  {
   "cell_type": "code",
   "execution_count": 129,
   "metadata": {},
   "outputs": [],
   "source": [
    "a={1,2,3,4,6,7}\n",
    "b={5,1,3,4,5,7}\n",
    "c={1,4,5,6,7,9}"
   ]
  },
  {
   "cell_type": "code",
   "execution_count": 130,
   "metadata": {},
   "outputs": [
    {
     "data": {
      "text/plain": [
       "{1, 4, 7}"
      ]
     },
     "execution_count": 130,
     "metadata": {},
     "output_type": "execute_result"
    }
   ],
   "source": [
    "a.intersection(b,c)"
   ]
  },
  {
   "cell_type": "code",
   "execution_count": 131,
   "metadata": {},
   "outputs": [],
   "source": [
    "a.intersection_update(b,c)"
   ]
  },
  {
   "cell_type": "code",
   "execution_count": 135,
   "metadata": {},
   "outputs": [
    {
     "name": "stdout",
     "output_type": "stream",
     "text": [
      "{1, 4, 7} {1, 3, 4, 5, 7} {1, 4, 5, 6, 7, 9}\n"
     ]
    }
   ],
   "source": [
    "print(a,b,c)"
   ]
  },
  {
   "cell_type": "code",
   "execution_count": 140,
   "metadata": {},
   "outputs": [
    {
     "data": {
      "text/plain": [
       "{6, 9}"
      ]
     },
     "execution_count": 140,
     "metadata": {},
     "output_type": "execute_result"
    }
   ],
   "source": [
    "c.difference(a,b)\n"
   ]
  },
  {
   "cell_type": "code",
   "execution_count": 141,
   "metadata": {},
   "outputs": [
    {
     "name": "stdout",
     "output_type": "stream",
     "text": [
      "{1, 4, 7} {1, 3, 4, 5, 7} {1, 4, 5, 6, 7, 9}\n"
     ]
    }
   ],
   "source": [
    "print(a,b,c)"
   ]
  },
  {
   "cell_type": "code",
   "execution_count": 144,
   "metadata": {},
   "outputs": [
    {
     "name": "stdout",
     "output_type": "stream",
     "text": [
      "{1, 4, 7} {1, 3, 4, 5, 7} {6, 9}\n"
     ]
    }
   ],
   "source": [
    "c.difference_update(a,b)\n",
    "print(a,b,c)"
   ]
  },
  {
   "cell_type": "code",
   "execution_count": 143,
   "metadata": {},
   "outputs": [
    {
     "data": {
      "text/plain": [
       "{6, 9}"
      ]
     },
     "execution_count": 143,
     "metadata": {},
     "output_type": "execute_result"
    }
   ],
   "source": [
    "c.difference(a,b)"
   ]
  },
  {
   "cell_type": "code",
   "execution_count": 149,
   "metadata": {},
   "outputs": [
    {
     "data": {
      "text/plain": [
       "True"
      ]
     },
     "execution_count": 149,
     "metadata": {},
     "output_type": "execute_result"
    }
   ],
   "source": [
    "b.issuperset(a)"
   ]
  },
  {
   "cell_type": "code",
   "execution_count": 146,
   "metadata": {},
   "outputs": [
    {
     "name": "stdout",
     "output_type": "stream",
     "text": [
      "{1, 4, 7} {1, 3, 4, 5, 7} {6, 9}\n"
     ]
    }
   ],
   "source": [
    "print(a,b,c)"
   ]
  },
  {
   "cell_type": "code",
   "execution_count": 154,
   "metadata": {},
   "outputs": [],
   "source": [
    "mys=set('aakash')"
   ]
  },
  {
   "cell_type": "code",
   "execution_count": 156,
   "metadata": {},
   "outputs": [
    {
     "data": {
      "text/plain": [
       "True"
      ]
     },
     "execution_count": 156,
     "metadata": {},
     "output_type": "execute_result"
    }
   ],
   "source": [
    "'a' in mys"
   ]
  },
  {
   "cell_type": "code",
   "execution_count": 158,
   "metadata": {},
   "outputs": [
    {
     "name": "stdout",
     "output_type": "stream",
     "text": [
      "s\n",
      "h\n",
      "a\n",
      "k\n"
     ]
    }
   ],
   "source": [
    "for i in mys:\n",
    "    print(i)"
   ]
  },
  {
   "cell_type": "code",
   "execution_count": 161,
   "metadata": {},
   "outputs": [
    {
     "ename": "AttributeError",
     "evalue": "'set' object has no attribute 'all'",
     "output_type": "error",
     "traceback": [
      "\u001b[1;31m---------------------------------------------------------------------------\u001b[0m",
      "\u001b[1;31mAttributeError\u001b[0m                            Traceback (most recent call last)",
      "\u001b[1;32m<ipython-input-161-65e746bc138f>\u001b[0m in \u001b[0;36m<module>\u001b[1;34m\u001b[0m\n\u001b[1;32m----> 1\u001b[1;33m \u001b[0mmys\u001b[0m\u001b[1;33m.\u001b[0m\u001b[0mall\u001b[0m\u001b[1;33m(\u001b[0m\u001b[1;33m)\u001b[0m\u001b[1;33m\u001b[0m\u001b[1;33m\u001b[0m\u001b[0m\n\u001b[0m",
      "\u001b[1;31mAttributeError\u001b[0m: 'set' object has no attribute 'all'"
     ]
    }
   ],
   "source": [
    "mys.all()"
   ]
  },
  {
   "cell_type": "code",
   "execution_count": 162,
   "metadata": {},
   "outputs": [],
   "source": [
    "l=[1,2,3]"
   ]
  },
  {
   "cell_type": "code",
   "execution_count": 166,
   "metadata": {},
   "outputs": [],
   "source": [
    "s=set([1,2,0])"
   ]
  },
  {
   "cell_type": "code",
   "execution_count": 167,
   "metadata": {},
   "outputs": [
    {
     "data": {
      "text/plain": [
       "{0, 1, 2}"
      ]
     },
     "execution_count": 167,
     "metadata": {},
     "output_type": "execute_result"
    }
   ],
   "source": [
    "s"
   ]
  },
  {
   "cell_type": "code",
   "execution_count": 168,
   "metadata": {},
   "outputs": [
    {
     "data": {
      "text/plain": [
       "False"
      ]
     },
     "execution_count": 168,
     "metadata": {},
     "output_type": "execute_result"
    }
   ],
   "source": [
    "all(s)"
   ]
  },
  {
   "cell_type": "code",
   "execution_count": 1,
   "metadata": {
    "scrolled": true
   },
   "outputs": [
    {
     "data": {
      "text/plain": [
       "True"
      ]
     },
     "execution_count": 1,
     "metadata": {},
     "output_type": "execute_result"
    }
   ],
   "source": [
    "s=set(\"Singhb\")\n",
    "any(s)"
   ]
  },
  {
   "cell_type": "code",
   "execution_count": 3,
   "metadata": {},
   "outputs": [
    {
     "data": {
      "text/plain": [
       "[(44, 'g'), (45, 'n'), (46, 'b'), (47, 'h'), (48, 'i'), (49, 'S')]"
      ]
     },
     "execution_count": 3,
     "metadata": {},
     "output_type": "execute_result"
    }
   ],
   "source": [
    "list(enumerate(s,44))\n"
   ]
  },
  {
   "cell_type": "code",
   "execution_count": 5,
   "metadata": {},
   "outputs": [],
   "source": [
    "a=set([1,2,3,6])"
   ]
  },
  {
   "cell_type": "code",
   "execution_count": 7,
   "metadata": {},
   "outputs": [
    {
     "data": {
      "text/plain": [
       "4"
      ]
     },
     "execution_count": 7,
     "metadata": {},
     "output_type": "execute_result"
    }
   ],
   "source": [
    "len(a)"
   ]
  },
  {
   "cell_type": "code",
   "execution_count": 9,
   "metadata": {},
   "outputs": [
    {
     "data": {
      "text/plain": [
       "6"
      ]
     },
     "execution_count": 9,
     "metadata": {},
     "output_type": "execute_result"
    }
   ],
   "source": [
    "max(a)"
   ]
  },
  {
   "cell_type": "code",
   "execution_count": 11,
   "metadata": {},
   "outputs": [
    {
     "data": {
      "text/plain": [
       "[1, 2, 3, 6]"
      ]
     },
     "execution_count": 11,
     "metadata": {},
     "output_type": "execute_result"
    }
   ],
   "source": [
    "sorted(a)"
   ]
  },
  {
   "cell_type": "code",
   "execution_count": 12,
   "metadata": {},
   "outputs": [
    {
     "data": {
      "text/plain": [
       "12"
      ]
     },
     "execution_count": 12,
     "metadata": {},
     "output_type": "execute_result"
    }
   ],
   "source": [
    "sum(a)"
   ]
  },
  {
   "cell_type": "code",
   "execution_count": null,
   "metadata": {},
   "outputs": [],
   "source": [
    "# Frozensets\n",
    "# initialize A and B\n",
    "\n",
    "Try these examples on Python shell.\n",
    "\n",
    ">>> A.isdisjoint(B)\n",
    "False\n",
    ">>> A.difference(B)\n",
    "frozenset({1, 2})\n",
    ">>> A | B\n",
    "frozenset({1, 2, 3, 4, 5, 6})\n",
    ">>> A.add(3)\n",
    "...\n",
    "AttributeError: 'frozenset' object has no attribute 'add'"
   ]
  },
  {
   "cell_type": "code",
   "execution_count": 13,
   "metadata": {},
   "outputs": [],
   "source": [
    "A = frozenset([1, 2, 3, 4])\n",
    "B = frozenset([3, 4, 5, 6])"
   ]
  },
  {
   "cell_type": "code",
   "execution_count": 14,
   "metadata": {},
   "outputs": [
    {
     "data": {
      "text/plain": [
       "frozenset({1, 2, 3, 4, 5, 6})"
      ]
     },
     "execution_count": 14,
     "metadata": {},
     "output_type": "execute_result"
    }
   ],
   "source": [
    "frozenset({1, 2, 3, 4, 5, 6})"
   ]
  },
  {
   "cell_type": "code",
   "execution_count": 15,
   "metadata": {},
   "outputs": [
    {
     "data": {
      "text/plain": [
       "False"
      ]
     },
     "execution_count": 15,
     "metadata": {},
     "output_type": "execute_result"
    }
   ],
   "source": [
    "A.isdisjoint(B)"
   ]
  },
  {
   "cell_type": "code",
   "execution_count": 16,
   "metadata": {},
   "outputs": [
    {
     "data": {
      "text/plain": [
       "frozenset({1, 2})"
      ]
     },
     "execution_count": 16,
     "metadata": {},
     "output_type": "execute_result"
    }
   ],
   "source": [
    "A.difference(B)"
   ]
  },
  {
   "cell_type": "code",
   "execution_count": 18,
   "metadata": {},
   "outputs": [
    {
     "ename": "TypeError",
     "evalue": "'frozenset' object is not subscriptable",
     "output_type": "error",
     "traceback": [
      "\u001b[1;31m---------------------------------------------------------------------------\u001b[0m",
      "\u001b[1;31mTypeError\u001b[0m                                 Traceback (most recent call last)",
      "\u001b[1;32m<ipython-input-18-782c0e2fe61c>\u001b[0m in \u001b[0;36m<module>\u001b[1;34m\u001b[0m\n\u001b[1;32m----> 1\u001b[1;33m \u001b[0mA\u001b[0m\u001b[1;33m[\u001b[0m\u001b[1;36m0\u001b[0m\u001b[1;33m]\u001b[0m\u001b[1;33m\u001b[0m\u001b[1;33m\u001b[0m\u001b[0m\n\u001b[0m",
      "\u001b[1;31mTypeError\u001b[0m: 'frozenset' object is not subscriptable"
     ]
    }
   ],
   "source": [
    "A[0]"
   ]
  },
  {
   "cell_type": "code",
   "execution_count": 5,
   "metadata": {},
   "outputs": [],
   "source": [
    "mydict={'Name':'Akash Singh','Age':21,'College':\"TRident\"}"
   ]
  },
  {
   "cell_type": "code",
   "execution_count": 6,
   "metadata": {},
   "outputs": [
    {
     "data": {
      "text/plain": [
       "dict"
      ]
     },
     "execution_count": 6,
     "metadata": {},
     "output_type": "execute_result"
    }
   ],
   "source": [
    "type(mydict)"
   ]
  },
  {
   "cell_type": "code",
   "execution_count": 7,
   "metadata": {},
   "outputs": [
    {
     "data": {
      "text/plain": [
       "{'Name': 'Akash Singh', 'Age': 21, 'College': 'TRident'}"
      ]
     },
     "execution_count": 7,
     "metadata": {},
     "output_type": "execute_result"
    }
   ],
   "source": [
    "mydict"
   ]
  },
  {
   "cell_type": "code",
   "execution_count": 8,
   "metadata": {},
   "outputs": [
    {
     "data": {
      "text/plain": [
       "'Akash Singh'"
      ]
     },
     "execution_count": 8,
     "metadata": {},
     "output_type": "execute_result"
    }
   ],
   "source": [
    "mydict.get('Name')"
   ]
  },
  {
   "cell_type": "code",
   "execution_count": 9,
   "metadata": {},
   "outputs": [
    {
     "data": {
      "text/plain": [
       "'Akash Singh'"
      ]
     },
     "execution_count": 9,
     "metadata": {},
     "output_type": "execute_result"
    }
   ],
   "source": [
    "mydict['Name']"
   ]
  },
  {
   "cell_type": "code",
   "execution_count": null,
   "metadata": {},
   "outputs": [],
   "source": []
  },
  {
   "cell_type": "code",
   "execution_count": 11,
   "metadata": {},
   "outputs": [],
   "source": [
    "mydict.get('roll')"
   ]
  },
  {
   "cell_type": "code",
   "execution_count": 13,
   "metadata": {},
   "outputs": [],
   "source": [
    "mydict['Name']=\"Vikash Rajput\""
   ]
  },
  {
   "cell_type": "code",
   "execution_count": 14,
   "metadata": {},
   "outputs": [
    {
     "data": {
      "text/plain": [
       "{'Name': 'Vikash Rajput', 'Age': 21, 'College': 'TRident'}"
      ]
     },
     "execution_count": 14,
     "metadata": {},
     "output_type": "execute_result"
    }
   ],
   "source": [
    "mydict"
   ]
  },
  {
   "cell_type": "code",
   "execution_count": 28,
   "metadata": {},
   "outputs": [],
   "source": [
    "myd=dict({1:'Apple',2:\"Ball\"})"
   ]
  },
  {
   "cell_type": "code",
   "execution_count": 29,
   "metadata": {},
   "outputs": [],
   "source": [
    "val,val1=myd"
   ]
  },
  {
   "cell_type": "code",
   "execution_count": 33,
   "metadata": {},
   "outputs": [
    {
     "data": {
      "text/plain": [
       "'Ball'"
      ]
     },
     "execution_count": 33,
     "metadata": {},
     "output_type": "execute_result"
    }
   ],
   "source": [
    "myd[val1]"
   ]
  },
  {
   "cell_type": "code",
   "execution_count": 31,
   "metadata": {},
   "outputs": [
    {
     "data": {
      "text/plain": [
       "1"
      ]
     },
     "execution_count": 31,
     "metadata": {},
     "output_type": "execute_result"
    }
   ],
   "source": [
    "val"
   ]
  },
  {
   "cell_type": "code",
   "execution_count": null,
   "metadata": {},
   "outputs": [],
   "source": []
  },
  {
   "cell_type": "code",
   "execution_count": 42,
   "metadata": {},
   "outputs": [],
   "source": [
    "md={1:'Car',2:'Cycle'}"
   ]
  },
  {
   "cell_type": "code",
   "execution_count": 43,
   "metadata": {},
   "outputs": [
    {
     "data": {
      "text/plain": [
       "{1: 'Car', 2: 'Cycle'}"
      ]
     },
     "execution_count": 43,
     "metadata": {},
     "output_type": "execute_result"
    }
   ],
   "source": [
    "md"
   ]
  },
  {
   "cell_type": "code",
   "execution_count": 45,
   "metadata": {},
   "outputs": [
    {
     "data": {
      "text/plain": [
       "'Cycle'"
      ]
     },
     "execution_count": 45,
     "metadata": {},
     "output_type": "execute_result"
    }
   ],
   "source": [
    "md.pop(2)"
   ]
  },
  {
   "cell_type": "code",
   "execution_count": 46,
   "metadata": {},
   "outputs": [
    {
     "data": {
      "text/plain": [
       "{1: 'Car'}"
      ]
     },
     "execution_count": 46,
     "metadata": {},
     "output_type": "execute_result"
    }
   ],
   "source": [
    "md"
   ]
  },
  {
   "cell_type": "code",
   "execution_count": 48,
   "metadata": {},
   "outputs": [],
   "source": [
    "md[3]=\"Van\""
   ]
  },
  {
   "cell_type": "code",
   "execution_count": 49,
   "metadata": {},
   "outputs": [
    {
     "data": {
      "text/plain": [
       "{1: 'Car', 3: 'Van'}"
      ]
     },
     "execution_count": 49,
     "metadata": {},
     "output_type": "execute_result"
    }
   ],
   "source": [
    "md"
   ]
  },
  {
   "cell_type": "markdown",
   "metadata": {},
   "source": [
    "md.popitem()"
   ]
  },
  {
   "cell_type": "code",
   "execution_count": 51,
   "metadata": {},
   "outputs": [],
   "source": [
    "val=md.popitem()"
   ]
  },
  {
   "cell_type": "code",
   "execution_count": 52,
   "metadata": {},
   "outputs": [
    {
     "data": {
      "text/plain": [
       "(1, 'Car')"
      ]
     },
     "execution_count": 52,
     "metadata": {},
     "output_type": "execute_result"
    }
   ],
   "source": [
    "val"
   ]
  },
  {
   "cell_type": "code",
   "execution_count": 53,
   "metadata": {},
   "outputs": [
    {
     "data": {
      "text/plain": [
       "'Car'"
      ]
     },
     "execution_count": 53,
     "metadata": {},
     "output_type": "execute_result"
    }
   ],
   "source": [
    "val[1]"
   ]
  },
  {
   "cell_type": "code",
   "execution_count": 54,
   "metadata": {},
   "outputs": [],
   "source": [
    "md.clear()"
   ]
  },
  {
   "cell_type": "code",
   "execution_count": 55,
   "metadata": {},
   "outputs": [
    {
     "data": {
      "text/plain": [
       "{}"
      ]
     },
     "execution_count": 55,
     "metadata": {},
     "output_type": "execute_result"
    }
   ],
   "source": [
    "md"
   ]
  },
  {
   "cell_type": "code",
   "execution_count": 56,
   "metadata": {},
   "outputs": [],
   "source": [
    "del md"
   ]
  },
  {
   "cell_type": "code",
   "execution_count": 60,
   "metadata": {},
   "outputs": [],
   "source": [
    "md={1:'Car',2:'Cycle'}"
   ]
  },
  {
   "cell_type": "code",
   "execution_count": 62,
   "metadata": {},
   "outputs": [],
   "source": [
    "new=md.copy()"
   ]
  },
  {
   "cell_type": "code",
   "execution_count": 63,
   "metadata": {},
   "outputs": [
    {
     "data": {
      "text/plain": [
       "{1: 'Car', 2: 'Cycle'}"
      ]
     },
     "execution_count": 63,
     "metadata": {},
     "output_type": "execute_result"
    }
   ],
   "source": [
    "new"
   ]
  },
  {
   "cell_type": "code",
   "execution_count": 64,
   "metadata": {},
   "outputs": [],
   "source": [
    "val=md.copy()"
   ]
  },
  {
   "cell_type": "code",
   "execution_count": 65,
   "metadata": {},
   "outputs": [
    {
     "data": {
      "text/plain": [
       "{1: 'Car', 2: 'Cycle'}"
      ]
     },
     "execution_count": 65,
     "metadata": {},
     "output_type": "execute_result"
    }
   ],
   "source": [
    "val"
   ]
  },
  {
   "cell_type": "code",
   "execution_count": 66,
   "metadata": {},
   "outputs": [
    {
     "data": {
      "text/plain": [
       "{1: 'Car', 2: 'Cycle'}"
      ]
     },
     "execution_count": 66,
     "metadata": {},
     "output_type": "execute_result"
    }
   ],
   "source": [
    "new"
   ]
  },
  {
   "cell_type": "code",
   "execution_count": 67,
   "metadata": {},
   "outputs": [],
   "source": [
    "md[1]=\"Scorpio\""
   ]
  },
  {
   "cell_type": "code",
   "execution_count": 68,
   "metadata": {},
   "outputs": [
    {
     "data": {
      "text/plain": [
       "{1: 'Car', 2: 'Cycle'}"
      ]
     },
     "execution_count": 68,
     "metadata": {},
     "output_type": "execute_result"
    }
   ],
   "source": [
    "val"
   ]
  },
  {
   "cell_type": "code",
   "execution_count": 69,
   "metadata": {},
   "outputs": [
    {
     "data": {
      "text/plain": [
       "dict_items([(1, 'Scorpio'), (2, 'Cycle')])"
      ]
     },
     "execution_count": 69,
     "metadata": {},
     "output_type": "execute_result"
    }
   ],
   "source": [
    "md.items()"
   ]
  },
  {
   "cell_type": "code",
   "execution_count": 70,
   "metadata": {},
   "outputs": [
    {
     "data": {
      "text/plain": [
       "dict_keys([1, 2])"
      ]
     },
     "execution_count": 70,
     "metadata": {},
     "output_type": "execute_result"
    }
   ],
   "source": [
    "md.keys()"
   ]
  },
  {
   "cell_type": "code",
   "execution_count": 71,
   "metadata": {},
   "outputs": [],
   "source": [
    "keys=['a','b','c','d']"
   ]
  },
  {
   "cell_type": "code",
   "execution_count": 72,
   "metadata": {},
   "outputs": [],
   "source": [
    "value=[1]"
   ]
  },
  {
   "cell_type": "code",
   "execution_count": 73,
   "metadata": {},
   "outputs": [],
   "source": [
    "vowel={key:list(value) for key in keys}"
   ]
  },
  {
   "cell_type": "code",
   "execution_count": 74,
   "metadata": {},
   "outputs": [
    {
     "data": {
      "text/plain": [
       "{'a': [1], 'b': [1], 'c': [1], 'd': [1]}"
      ]
     },
     "execution_count": 74,
     "metadata": {},
     "output_type": "execute_result"
    }
   ],
   "source": [
    "vowel"
   ]
  },
  {
   "cell_type": "code",
   "execution_count": 77,
   "metadata": {},
   "outputs": [
    {
     "name": "stdout",
     "output_type": "stream",
     "text": [
      "{'a': [1], 'b': [1], 'c': [1], 'd': [1]}\n"
     ]
    }
   ],
   "source": [
    "value.append(2)\n",
    "print(vowel)"
   ]
  },
  {
   "cell_type": "code",
   "execution_count": 76,
   "metadata": {},
   "outputs": [
    {
     "data": {
      "text/plain": [
       "{'a': [1], 'b': [1], 'c': [1], 'd': [1]}"
      ]
     },
     "execution_count": 76,
     "metadata": {},
     "output_type": "execute_result"
    }
   ],
   "source": [
    "vowel"
   ]
  },
  {
   "cell_type": "code",
   "execution_count": 78,
   "metadata": {
    "scrolled": true
   },
   "outputs": [
    {
     "name": "stdout",
     "output_type": "stream",
     "text": [
      "{'o': [1], 'e': [1], 'a': [1], 'u': [1], 'i': [1]}\n",
      "{'o': [1], 'e': [1], 'a': [1], 'u': [1], 'i': [1]}\n"
     ]
    }
   ],
   "source": [
    "# vowels keys\n",
    "keys = {'a', 'e', 'i', 'o', 'u' }\n",
    "value = [1]\n",
    "\n",
    "vowels = { key : list(value) for key in keys }\n",
    "# you can also use { key : value[:] for key in keys }\n",
    "print(vowels)\n",
    "\n",
    "# updating the value\n",
    "value.append(2)\n",
    "print(vowels)"
   ]
  },
  {
   "cell_type": "code",
   "execution_count": 79,
   "metadata": {},
   "outputs": [
    {
     "name": "stdout",
     "output_type": "stream",
     "text": [
      "{'o': [1], 'e': [1], 'a': [1], 'u': [1], 'i': [1]}\n",
      "{'o': [1], 'e': [1], 'a': [1], 'u': [1], 'i': [1]}\n"
     ]
    }
   ],
   "source": []
  },
  {
   "cell_type": "code",
   "execution_count": 80,
   "metadata": {},
   "outputs": [
    {
     "data": {
      "text/plain": [
       "{1: 'Scorpio', 2: 'Cycle'}"
      ]
     },
     "execution_count": 80,
     "metadata": {},
     "output_type": "execute_result"
    }
   ],
   "source": [
    "md"
   ]
  },
  {
   "cell_type": "code",
   "execution_count": 81,
   "metadata": {},
   "outputs": [
    {
     "name": "stdout",
     "output_type": "stream",
     "text": [
      "(1, 'Scorpio')\n",
      "(2, 'Cycle')\n"
     ]
    }
   ],
   "source": [
    "for item in md.items():\n",
    "    print(item)"
   ]
  },
  {
   "cell_type": "code",
   "execution_count": 83,
   "metadata": {},
   "outputs": [
    {
     "data": {
      "text/plain": [
       "[1, 2]"
      ]
     },
     "execution_count": 83,
     "metadata": {},
     "output_type": "execute_result"
    }
   ],
   "source": [
    "list(sorted(md.keys()))"
   ]
  },
  {
   "cell_type": "code",
   "execution_count": 91,
   "metadata": {},
   "outputs": [],
   "source": [
    "squres={x:x*x for x in range(1000000) if x%2==0}"
   ]
  },
  {
   "cell_type": "code",
   "execution_count": 92,
   "metadata": {
    "scrolled": false
   },
   "outputs": [
    {
     "data": {
      "text/plain": [
       "{0: 0,\n",
       " 2: 4,\n",
       " 4: 16,\n",
       " 6: 36,\n",
       " 8: 64,\n",
       " 10: 100,\n",
       " 12: 144,\n",
       " 14: 196,\n",
       " 16: 256,\n",
       " 18: 324,\n",
       " 20: 400,\n",
       " 22: 484,\n",
       " 24: 576,\n",
       " 26: 676,\n",
       " 28: 784,\n",
       " 30: 900,\n",
       " 32: 1024,\n",
       " 34: 1156,\n",
       " 36: 1296,\n",
       " 38: 1444,\n",
       " 40: 1600,\n",
       " 42: 1764,\n",
       " 44: 1936,\n",
       " 46: 2116,\n",
       " 48: 2304,\n",
       " 50: 2500,\n",
       " 52: 2704,\n",
       " 54: 2916,\n",
       " 56: 3136,\n",
       " 58: 3364,\n",
       " 60: 3600,\n",
       " 62: 3844,\n",
       " 64: 4096,\n",
       " 66: 4356,\n",
       " 68: 4624,\n",
       " 70: 4900,\n",
       " 72: 5184,\n",
       " 74: 5476,\n",
       " 76: 5776,\n",
       " 78: 6084,\n",
       " 80: 6400,\n",
       " 82: 6724,\n",
       " 84: 7056,\n",
       " 86: 7396,\n",
       " 88: 7744,\n",
       " 90: 8100,\n",
       " 92: 8464,\n",
       " 94: 8836,\n",
       " 96: 9216,\n",
       " 98: 9604,\n",
       " 100: 10000,\n",
       " 102: 10404,\n",
       " 104: 10816,\n",
       " 106: 11236,\n",
       " 108: 11664,\n",
       " 110: 12100,\n",
       " 112: 12544,\n",
       " 114: 12996,\n",
       " 116: 13456,\n",
       " 118: 13924,\n",
       " 120: 14400,\n",
       " 122: 14884,\n",
       " 124: 15376,\n",
       " 126: 15876,\n",
       " 128: 16384,\n",
       " 130: 16900,\n",
       " 132: 17424,\n",
       " 134: 17956,\n",
       " 136: 18496,\n",
       " 138: 19044,\n",
       " 140: 19600,\n",
       " 142: 20164,\n",
       " 144: 20736,\n",
       " 146: 21316,\n",
       " 148: 21904,\n",
       " 150: 22500,\n",
       " 152: 23104,\n",
       " 154: 23716,\n",
       " 156: 24336,\n",
       " 158: 24964,\n",
       " 160: 25600,\n",
       " 162: 26244,\n",
       " 164: 26896,\n",
       " 166: 27556,\n",
       " 168: 28224,\n",
       " 170: 28900,\n",
       " 172: 29584,\n",
       " 174: 30276,\n",
       " 176: 30976,\n",
       " 178: 31684,\n",
       " 180: 32400,\n",
       " 182: 33124,\n",
       " 184: 33856,\n",
       " 186: 34596,\n",
       " 188: 35344,\n",
       " 190: 36100,\n",
       " 192: 36864,\n",
       " 194: 37636,\n",
       " 196: 38416,\n",
       " 198: 39204,\n",
       " 200: 40000,\n",
       " 202: 40804,\n",
       " 204: 41616,\n",
       " 206: 42436,\n",
       " 208: 43264,\n",
       " 210: 44100,\n",
       " 212: 44944,\n",
       " 214: 45796,\n",
       " 216: 46656,\n",
       " 218: 47524,\n",
       " 220: 48400,\n",
       " 222: 49284,\n",
       " 224: 50176,\n",
       " 226: 51076,\n",
       " 228: 51984,\n",
       " 230: 52900,\n",
       " 232: 53824,\n",
       " 234: 54756,\n",
       " 236: 55696,\n",
       " 238: 56644,\n",
       " 240: 57600,\n",
       " 242: 58564,\n",
       " 244: 59536,\n",
       " 246: 60516,\n",
       " 248: 61504,\n",
       " 250: 62500,\n",
       " 252: 63504,\n",
       " 254: 64516,\n",
       " 256: 65536,\n",
       " 258: 66564,\n",
       " 260: 67600,\n",
       " 262: 68644,\n",
       " 264: 69696,\n",
       " 266: 70756,\n",
       " 268: 71824,\n",
       " 270: 72900,\n",
       " 272: 73984,\n",
       " 274: 75076,\n",
       " 276: 76176,\n",
       " 278: 77284,\n",
       " 280: 78400,\n",
       " 282: 79524,\n",
       " 284: 80656,\n",
       " 286: 81796,\n",
       " 288: 82944,\n",
       " 290: 84100,\n",
       " 292: 85264,\n",
       " 294: 86436,\n",
       " 296: 87616,\n",
       " 298: 88804,\n",
       " 300: 90000,\n",
       " 302: 91204,\n",
       " 304: 92416,\n",
       " 306: 93636,\n",
       " 308: 94864,\n",
       " 310: 96100,\n",
       " 312: 97344,\n",
       " 314: 98596,\n",
       " 316: 99856,\n",
       " 318: 101124,\n",
       " 320: 102400,\n",
       " 322: 103684,\n",
       " 324: 104976,\n",
       " 326: 106276,\n",
       " 328: 107584,\n",
       " 330: 108900,\n",
       " 332: 110224,\n",
       " 334: 111556,\n",
       " 336: 112896,\n",
       " 338: 114244,\n",
       " 340: 115600,\n",
       " 342: 116964,\n",
       " 344: 118336,\n",
       " 346: 119716,\n",
       " 348: 121104,\n",
       " 350: 122500,\n",
       " 352: 123904,\n",
       " 354: 125316,\n",
       " 356: 126736,\n",
       " 358: 128164,\n",
       " 360: 129600,\n",
       " 362: 131044,\n",
       " 364: 132496,\n",
       " 366: 133956,\n",
       " 368: 135424,\n",
       " 370: 136900,\n",
       " 372: 138384,\n",
       " 374: 139876,\n",
       " 376: 141376,\n",
       " 378: 142884,\n",
       " 380: 144400,\n",
       " 382: 145924,\n",
       " 384: 147456,\n",
       " 386: 148996,\n",
       " 388: 150544,\n",
       " 390: 152100,\n",
       " 392: 153664,\n",
       " 394: 155236,\n",
       " 396: 156816,\n",
       " 398: 158404,\n",
       " 400: 160000,\n",
       " 402: 161604,\n",
       " 404: 163216,\n",
       " 406: 164836,\n",
       " 408: 166464,\n",
       " 410: 168100,\n",
       " 412: 169744,\n",
       " 414: 171396,\n",
       " 416: 173056,\n",
       " 418: 174724,\n",
       " 420: 176400,\n",
       " 422: 178084,\n",
       " 424: 179776,\n",
       " 426: 181476,\n",
       " 428: 183184,\n",
       " 430: 184900,\n",
       " 432: 186624,\n",
       " 434: 188356,\n",
       " 436: 190096,\n",
       " 438: 191844,\n",
       " 440: 193600,\n",
       " 442: 195364,\n",
       " 444: 197136,\n",
       " 446: 198916,\n",
       " 448: 200704,\n",
       " 450: 202500,\n",
       " 452: 204304,\n",
       " 454: 206116,\n",
       " 456: 207936,\n",
       " 458: 209764,\n",
       " 460: 211600,\n",
       " 462: 213444,\n",
       " 464: 215296,\n",
       " 466: 217156,\n",
       " 468: 219024,\n",
       " 470: 220900,\n",
       " 472: 222784,\n",
       " 474: 224676,\n",
       " 476: 226576,\n",
       " 478: 228484,\n",
       " 480: 230400,\n",
       " 482: 232324,\n",
       " 484: 234256,\n",
       " 486: 236196,\n",
       " 488: 238144,\n",
       " 490: 240100,\n",
       " 492: 242064,\n",
       " 494: 244036,\n",
       " 496: 246016,\n",
       " 498: 248004,\n",
       " 500: 250000,\n",
       " 502: 252004,\n",
       " 504: 254016,\n",
       " 506: 256036,\n",
       " 508: 258064,\n",
       " 510: 260100,\n",
       " 512: 262144,\n",
       " 514: 264196,\n",
       " 516: 266256,\n",
       " 518: 268324,\n",
       " 520: 270400,\n",
       " 522: 272484,\n",
       " 524: 274576,\n",
       " 526: 276676,\n",
       " 528: 278784,\n",
       " 530: 280900,\n",
       " 532: 283024,\n",
       " 534: 285156,\n",
       " 536: 287296,\n",
       " 538: 289444,\n",
       " 540: 291600,\n",
       " 542: 293764,\n",
       " 544: 295936,\n",
       " 546: 298116,\n",
       " 548: 300304,\n",
       " 550: 302500,\n",
       " 552: 304704,\n",
       " 554: 306916,\n",
       " 556: 309136,\n",
       " 558: 311364,\n",
       " 560: 313600,\n",
       " 562: 315844,\n",
       " 564: 318096,\n",
       " 566: 320356,\n",
       " 568: 322624,\n",
       " 570: 324900,\n",
       " 572: 327184,\n",
       " 574: 329476,\n",
       " 576: 331776,\n",
       " 578: 334084,\n",
       " 580: 336400,\n",
       " 582: 338724,\n",
       " 584: 341056,\n",
       " 586: 343396,\n",
       " 588: 345744,\n",
       " 590: 348100,\n",
       " 592: 350464,\n",
       " 594: 352836,\n",
       " 596: 355216,\n",
       " 598: 357604,\n",
       " 600: 360000,\n",
       " 602: 362404,\n",
       " 604: 364816,\n",
       " 606: 367236,\n",
       " 608: 369664,\n",
       " 610: 372100,\n",
       " 612: 374544,\n",
       " 614: 376996,\n",
       " 616: 379456,\n",
       " 618: 381924,\n",
       " 620: 384400,\n",
       " 622: 386884,\n",
       " 624: 389376,\n",
       " 626: 391876,\n",
       " 628: 394384,\n",
       " 630: 396900,\n",
       " 632: 399424,\n",
       " 634: 401956,\n",
       " 636: 404496,\n",
       " 638: 407044,\n",
       " 640: 409600,\n",
       " 642: 412164,\n",
       " 644: 414736,\n",
       " 646: 417316,\n",
       " 648: 419904,\n",
       " 650: 422500,\n",
       " 652: 425104,\n",
       " 654: 427716,\n",
       " 656: 430336,\n",
       " 658: 432964,\n",
       " 660: 435600,\n",
       " 662: 438244,\n",
       " 664: 440896,\n",
       " 666: 443556,\n",
       " 668: 446224,\n",
       " 670: 448900,\n",
       " 672: 451584,\n",
       " 674: 454276,\n",
       " 676: 456976,\n",
       " 678: 459684,\n",
       " 680: 462400,\n",
       " 682: 465124,\n",
       " 684: 467856,\n",
       " 686: 470596,\n",
       " 688: 473344,\n",
       " 690: 476100,\n",
       " 692: 478864,\n",
       " 694: 481636,\n",
       " 696: 484416,\n",
       " 698: 487204,\n",
       " 700: 490000,\n",
       " 702: 492804,\n",
       " 704: 495616,\n",
       " 706: 498436,\n",
       " 708: 501264,\n",
       " 710: 504100,\n",
       " 712: 506944,\n",
       " 714: 509796,\n",
       " 716: 512656,\n",
       " 718: 515524,\n",
       " 720: 518400,\n",
       " 722: 521284,\n",
       " 724: 524176,\n",
       " 726: 527076,\n",
       " 728: 529984,\n",
       " 730: 532900,\n",
       " 732: 535824,\n",
       " 734: 538756,\n",
       " 736: 541696,\n",
       " 738: 544644,\n",
       " 740: 547600,\n",
       " 742: 550564,\n",
       " 744: 553536,\n",
       " 746: 556516,\n",
       " 748: 559504,\n",
       " 750: 562500,\n",
       " 752: 565504,\n",
       " 754: 568516,\n",
       " 756: 571536,\n",
       " 758: 574564,\n",
       " 760: 577600,\n",
       " 762: 580644,\n",
       " 764: 583696,\n",
       " 766: 586756,\n",
       " 768: 589824,\n",
       " 770: 592900,\n",
       " 772: 595984,\n",
       " 774: 599076,\n",
       " 776: 602176,\n",
       " 778: 605284,\n",
       " 780: 608400,\n",
       " 782: 611524,\n",
       " 784: 614656,\n",
       " 786: 617796,\n",
       " 788: 620944,\n",
       " 790: 624100,\n",
       " 792: 627264,\n",
       " 794: 630436,\n",
       " 796: 633616,\n",
       " 798: 636804,\n",
       " 800: 640000,\n",
       " 802: 643204,\n",
       " 804: 646416,\n",
       " 806: 649636,\n",
       " 808: 652864,\n",
       " 810: 656100,\n",
       " 812: 659344,\n",
       " 814: 662596,\n",
       " 816: 665856,\n",
       " 818: 669124,\n",
       " 820: 672400,\n",
       " 822: 675684,\n",
       " 824: 678976,\n",
       " 826: 682276,\n",
       " 828: 685584,\n",
       " 830: 688900,\n",
       " 832: 692224,\n",
       " 834: 695556,\n",
       " 836: 698896,\n",
       " 838: 702244,\n",
       " 840: 705600,\n",
       " 842: 708964,\n",
       " 844: 712336,\n",
       " 846: 715716,\n",
       " 848: 719104,\n",
       " 850: 722500,\n",
       " 852: 725904,\n",
       " 854: 729316,\n",
       " 856: 732736,\n",
       " 858: 736164,\n",
       " 860: 739600,\n",
       " 862: 743044,\n",
       " 864: 746496,\n",
       " 866: 749956,\n",
       " 868: 753424,\n",
       " 870: 756900,\n",
       " 872: 760384,\n",
       " 874: 763876,\n",
       " 876: 767376,\n",
       " 878: 770884,\n",
       " 880: 774400,\n",
       " 882: 777924,\n",
       " 884: 781456,\n",
       " 886: 784996,\n",
       " 888: 788544,\n",
       " 890: 792100,\n",
       " 892: 795664,\n",
       " 894: 799236,\n",
       " 896: 802816,\n",
       " 898: 806404,\n",
       " 900: 810000,\n",
       " 902: 813604,\n",
       " 904: 817216,\n",
       " 906: 820836,\n",
       " 908: 824464,\n",
       " 910: 828100,\n",
       " 912: 831744,\n",
       " 914: 835396,\n",
       " 916: 839056,\n",
       " 918: 842724,\n",
       " 920: 846400,\n",
       " 922: 850084,\n",
       " 924: 853776,\n",
       " 926: 857476,\n",
       " 928: 861184,\n",
       " 930: 864900,\n",
       " 932: 868624,\n",
       " 934: 872356,\n",
       " 936: 876096,\n",
       " 938: 879844,\n",
       " 940: 883600,\n",
       " 942: 887364,\n",
       " 944: 891136,\n",
       " 946: 894916,\n",
       " 948: 898704,\n",
       " 950: 902500,\n",
       " 952: 906304,\n",
       " 954: 910116,\n",
       " 956: 913936,\n",
       " 958: 917764,\n",
       " 960: 921600,\n",
       " 962: 925444,\n",
       " 964: 929296,\n",
       " 966: 933156,\n",
       " 968: 937024,\n",
       " 970: 940900,\n",
       " 972: 944784,\n",
       " 974: 948676,\n",
       " 976: 952576,\n",
       " 978: 956484,\n",
       " 980: 960400,\n",
       " 982: 964324,\n",
       " 984: 968256,\n",
       " 986: 972196,\n",
       " 988: 976144,\n",
       " 990: 980100,\n",
       " 992: 984064,\n",
       " 994: 988036,\n",
       " 996: 992016,\n",
       " 998: 996004,\n",
       " 1000: 1000000,\n",
       " 1002: 1004004,\n",
       " 1004: 1008016,\n",
       " 1006: 1012036,\n",
       " 1008: 1016064,\n",
       " 1010: 1020100,\n",
       " 1012: 1024144,\n",
       " 1014: 1028196,\n",
       " 1016: 1032256,\n",
       " 1018: 1036324,\n",
       " 1020: 1040400,\n",
       " 1022: 1044484,\n",
       " 1024: 1048576,\n",
       " 1026: 1052676,\n",
       " 1028: 1056784,\n",
       " 1030: 1060900,\n",
       " 1032: 1065024,\n",
       " 1034: 1069156,\n",
       " 1036: 1073296,\n",
       " 1038: 1077444,\n",
       " 1040: 1081600,\n",
       " 1042: 1085764,\n",
       " 1044: 1089936,\n",
       " 1046: 1094116,\n",
       " 1048: 1098304,\n",
       " 1050: 1102500,\n",
       " 1052: 1106704,\n",
       " 1054: 1110916,\n",
       " 1056: 1115136,\n",
       " 1058: 1119364,\n",
       " 1060: 1123600,\n",
       " 1062: 1127844,\n",
       " 1064: 1132096,\n",
       " 1066: 1136356,\n",
       " 1068: 1140624,\n",
       " 1070: 1144900,\n",
       " 1072: 1149184,\n",
       " 1074: 1153476,\n",
       " 1076: 1157776,\n",
       " 1078: 1162084,\n",
       " 1080: 1166400,\n",
       " 1082: 1170724,\n",
       " 1084: 1175056,\n",
       " 1086: 1179396,\n",
       " 1088: 1183744,\n",
       " 1090: 1188100,\n",
       " 1092: 1192464,\n",
       " 1094: 1196836,\n",
       " 1096: 1201216,\n",
       " 1098: 1205604,\n",
       " 1100: 1210000,\n",
       " 1102: 1214404,\n",
       " 1104: 1218816,\n",
       " 1106: 1223236,\n",
       " 1108: 1227664,\n",
       " 1110: 1232100,\n",
       " 1112: 1236544,\n",
       " 1114: 1240996,\n",
       " 1116: 1245456,\n",
       " 1118: 1249924,\n",
       " 1120: 1254400,\n",
       " 1122: 1258884,\n",
       " 1124: 1263376,\n",
       " 1126: 1267876,\n",
       " 1128: 1272384,\n",
       " 1130: 1276900,\n",
       " 1132: 1281424,\n",
       " 1134: 1285956,\n",
       " 1136: 1290496,\n",
       " 1138: 1295044,\n",
       " 1140: 1299600,\n",
       " 1142: 1304164,\n",
       " 1144: 1308736,\n",
       " 1146: 1313316,\n",
       " 1148: 1317904,\n",
       " 1150: 1322500,\n",
       " 1152: 1327104,\n",
       " 1154: 1331716,\n",
       " 1156: 1336336,\n",
       " 1158: 1340964,\n",
       " 1160: 1345600,\n",
       " 1162: 1350244,\n",
       " 1164: 1354896,\n",
       " 1166: 1359556,\n",
       " 1168: 1364224,\n",
       " 1170: 1368900,\n",
       " 1172: 1373584,\n",
       " 1174: 1378276,\n",
       " 1176: 1382976,\n",
       " 1178: 1387684,\n",
       " 1180: 1392400,\n",
       " 1182: 1397124,\n",
       " 1184: 1401856,\n",
       " 1186: 1406596,\n",
       " 1188: 1411344,\n",
       " 1190: 1416100,\n",
       " 1192: 1420864,\n",
       " 1194: 1425636,\n",
       " 1196: 1430416,\n",
       " 1198: 1435204,\n",
       " 1200: 1440000,\n",
       " 1202: 1444804,\n",
       " 1204: 1449616,\n",
       " 1206: 1454436,\n",
       " 1208: 1459264,\n",
       " 1210: 1464100,\n",
       " 1212: 1468944,\n",
       " 1214: 1473796,\n",
       " 1216: 1478656,\n",
       " 1218: 1483524,\n",
       " 1220: 1488400,\n",
       " 1222: 1493284,\n",
       " 1224: 1498176,\n",
       " 1226: 1503076,\n",
       " 1228: 1507984,\n",
       " 1230: 1512900,\n",
       " 1232: 1517824,\n",
       " 1234: 1522756,\n",
       " 1236: 1527696,\n",
       " 1238: 1532644,\n",
       " 1240: 1537600,\n",
       " 1242: 1542564,\n",
       " 1244: 1547536,\n",
       " 1246: 1552516,\n",
       " 1248: 1557504,\n",
       " 1250: 1562500,\n",
       " 1252: 1567504,\n",
       " 1254: 1572516,\n",
       " 1256: 1577536,\n",
       " 1258: 1582564,\n",
       " 1260: 1587600,\n",
       " 1262: 1592644,\n",
       " 1264: 1597696,\n",
       " 1266: 1602756,\n",
       " 1268: 1607824,\n",
       " 1270: 1612900,\n",
       " 1272: 1617984,\n",
       " 1274: 1623076,\n",
       " 1276: 1628176,\n",
       " 1278: 1633284,\n",
       " 1280: 1638400,\n",
       " 1282: 1643524,\n",
       " 1284: 1648656,\n",
       " 1286: 1653796,\n",
       " 1288: 1658944,\n",
       " 1290: 1664100,\n",
       " 1292: 1669264,\n",
       " 1294: 1674436,\n",
       " 1296: 1679616,\n",
       " 1298: 1684804,\n",
       " 1300: 1690000,\n",
       " 1302: 1695204,\n",
       " 1304: 1700416,\n",
       " 1306: 1705636,\n",
       " 1308: 1710864,\n",
       " 1310: 1716100,\n",
       " 1312: 1721344,\n",
       " 1314: 1726596,\n",
       " 1316: 1731856,\n",
       " 1318: 1737124,\n",
       " 1320: 1742400,\n",
       " 1322: 1747684,\n",
       " 1324: 1752976,\n",
       " 1326: 1758276,\n",
       " 1328: 1763584,\n",
       " 1330: 1768900,\n",
       " 1332: 1774224,\n",
       " 1334: 1779556,\n",
       " 1336: 1784896,\n",
       " 1338: 1790244,\n",
       " 1340: 1795600,\n",
       " 1342: 1800964,\n",
       " 1344: 1806336,\n",
       " 1346: 1811716,\n",
       " 1348: 1817104,\n",
       " 1350: 1822500,\n",
       " 1352: 1827904,\n",
       " 1354: 1833316,\n",
       " 1356: 1838736,\n",
       " 1358: 1844164,\n",
       " 1360: 1849600,\n",
       " 1362: 1855044,\n",
       " 1364: 1860496,\n",
       " 1366: 1865956,\n",
       " 1368: 1871424,\n",
       " 1370: 1876900,\n",
       " 1372: 1882384,\n",
       " 1374: 1887876,\n",
       " 1376: 1893376,\n",
       " 1378: 1898884,\n",
       " 1380: 1904400,\n",
       " 1382: 1909924,\n",
       " 1384: 1915456,\n",
       " 1386: 1920996,\n",
       " 1388: 1926544,\n",
       " 1390: 1932100,\n",
       " 1392: 1937664,\n",
       " 1394: 1943236,\n",
       " 1396: 1948816,\n",
       " 1398: 1954404,\n",
       " 1400: 1960000,\n",
       " 1402: 1965604,\n",
       " 1404: 1971216,\n",
       " 1406: 1976836,\n",
       " 1408: 1982464,\n",
       " 1410: 1988100,\n",
       " 1412: 1993744,\n",
       " 1414: 1999396,\n",
       " 1416: 2005056,\n",
       " 1418: 2010724,\n",
       " 1420: 2016400,\n",
       " 1422: 2022084,\n",
       " 1424: 2027776,\n",
       " 1426: 2033476,\n",
       " 1428: 2039184,\n",
       " 1430: 2044900,\n",
       " 1432: 2050624,\n",
       " 1434: 2056356,\n",
       " 1436: 2062096,\n",
       " 1438: 2067844,\n",
       " 1440: 2073600,\n",
       " 1442: 2079364,\n",
       " 1444: 2085136,\n",
       " 1446: 2090916,\n",
       " 1448: 2096704,\n",
       " 1450: 2102500,\n",
       " 1452: 2108304,\n",
       " 1454: 2114116,\n",
       " 1456: 2119936,\n",
       " 1458: 2125764,\n",
       " 1460: 2131600,\n",
       " 1462: 2137444,\n",
       " 1464: 2143296,\n",
       " 1466: 2149156,\n",
       " 1468: 2155024,\n",
       " 1470: 2160900,\n",
       " 1472: 2166784,\n",
       " 1474: 2172676,\n",
       " 1476: 2178576,\n",
       " 1478: 2184484,\n",
       " 1480: 2190400,\n",
       " 1482: 2196324,\n",
       " 1484: 2202256,\n",
       " 1486: 2208196,\n",
       " 1488: 2214144,\n",
       " 1490: 2220100,\n",
       " 1492: 2226064,\n",
       " 1494: 2232036,\n",
       " 1496: 2238016,\n",
       " 1498: 2244004,\n",
       " 1500: 2250000,\n",
       " 1502: 2256004,\n",
       " 1504: 2262016,\n",
       " 1506: 2268036,\n",
       " 1508: 2274064,\n",
       " 1510: 2280100,\n",
       " 1512: 2286144,\n",
       " 1514: 2292196,\n",
       " 1516: 2298256,\n",
       " 1518: 2304324,\n",
       " 1520: 2310400,\n",
       " 1522: 2316484,\n",
       " 1524: 2322576,\n",
       " 1526: 2328676,\n",
       " 1528: 2334784,\n",
       " 1530: 2340900,\n",
       " 1532: 2347024,\n",
       " 1534: 2353156,\n",
       " 1536: 2359296,\n",
       " 1538: 2365444,\n",
       " 1540: 2371600,\n",
       " 1542: 2377764,\n",
       " 1544: 2383936,\n",
       " 1546: 2390116,\n",
       " 1548: 2396304,\n",
       " 1550: 2402500,\n",
       " 1552: 2408704,\n",
       " 1554: 2414916,\n",
       " 1556: 2421136,\n",
       " 1558: 2427364,\n",
       " 1560: 2433600,\n",
       " 1562: 2439844,\n",
       " 1564: 2446096,\n",
       " 1566: 2452356,\n",
       " 1568: 2458624,\n",
       " 1570: 2464900,\n",
       " 1572: 2471184,\n",
       " 1574: 2477476,\n",
       " 1576: 2483776,\n",
       " 1578: 2490084,\n",
       " 1580: 2496400,\n",
       " 1582: 2502724,\n",
       " 1584: 2509056,\n",
       " 1586: 2515396,\n",
       " 1588: 2521744,\n",
       " 1590: 2528100,\n",
       " 1592: 2534464,\n",
       " 1594: 2540836,\n",
       " 1596: 2547216,\n",
       " 1598: 2553604,\n",
       " 1600: 2560000,\n",
       " 1602: 2566404,\n",
       " 1604: 2572816,\n",
       " 1606: 2579236,\n",
       " 1608: 2585664,\n",
       " 1610: 2592100,\n",
       " 1612: 2598544,\n",
       " 1614: 2604996,\n",
       " 1616: 2611456,\n",
       " 1618: 2617924,\n",
       " 1620: 2624400,\n",
       " 1622: 2630884,\n",
       " 1624: 2637376,\n",
       " 1626: 2643876,\n",
       " 1628: 2650384,\n",
       " 1630: 2656900,\n",
       " 1632: 2663424,\n",
       " 1634: 2669956,\n",
       " 1636: 2676496,\n",
       " 1638: 2683044,\n",
       " 1640: 2689600,\n",
       " 1642: 2696164,\n",
       " 1644: 2702736,\n",
       " 1646: 2709316,\n",
       " 1648: 2715904,\n",
       " 1650: 2722500,\n",
       " 1652: 2729104,\n",
       " 1654: 2735716,\n",
       " 1656: 2742336,\n",
       " 1658: 2748964,\n",
       " 1660: 2755600,\n",
       " 1662: 2762244,\n",
       " 1664: 2768896,\n",
       " 1666: 2775556,\n",
       " 1668: 2782224,\n",
       " 1670: 2788900,\n",
       " 1672: 2795584,\n",
       " 1674: 2802276,\n",
       " 1676: 2808976,\n",
       " 1678: 2815684,\n",
       " 1680: 2822400,\n",
       " 1682: 2829124,\n",
       " 1684: 2835856,\n",
       " 1686: 2842596,\n",
       " 1688: 2849344,\n",
       " 1690: 2856100,\n",
       " 1692: 2862864,\n",
       " 1694: 2869636,\n",
       " 1696: 2876416,\n",
       " 1698: 2883204,\n",
       " 1700: 2890000,\n",
       " 1702: 2896804,\n",
       " 1704: 2903616,\n",
       " 1706: 2910436,\n",
       " 1708: 2917264,\n",
       " 1710: 2924100,\n",
       " 1712: 2930944,\n",
       " 1714: 2937796,\n",
       " 1716: 2944656,\n",
       " 1718: 2951524,\n",
       " 1720: 2958400,\n",
       " 1722: 2965284,\n",
       " 1724: 2972176,\n",
       " 1726: 2979076,\n",
       " 1728: 2985984,\n",
       " 1730: 2992900,\n",
       " 1732: 2999824,\n",
       " 1734: 3006756,\n",
       " 1736: 3013696,\n",
       " 1738: 3020644,\n",
       " 1740: 3027600,\n",
       " 1742: 3034564,\n",
       " 1744: 3041536,\n",
       " 1746: 3048516,\n",
       " 1748: 3055504,\n",
       " 1750: 3062500,\n",
       " 1752: 3069504,\n",
       " 1754: 3076516,\n",
       " 1756: 3083536,\n",
       " 1758: 3090564,\n",
       " 1760: 3097600,\n",
       " 1762: 3104644,\n",
       " 1764: 3111696,\n",
       " 1766: 3118756,\n",
       " 1768: 3125824,\n",
       " 1770: 3132900,\n",
       " 1772: 3139984,\n",
       " 1774: 3147076,\n",
       " 1776: 3154176,\n",
       " 1778: 3161284,\n",
       " 1780: 3168400,\n",
       " 1782: 3175524,\n",
       " 1784: 3182656,\n",
       " 1786: 3189796,\n",
       " 1788: 3196944,\n",
       " 1790: 3204100,\n",
       " 1792: 3211264,\n",
       " 1794: 3218436,\n",
       " 1796: 3225616,\n",
       " 1798: 3232804,\n",
       " 1800: 3240000,\n",
       " 1802: 3247204,\n",
       " 1804: 3254416,\n",
       " 1806: 3261636,\n",
       " 1808: 3268864,\n",
       " 1810: 3276100,\n",
       " 1812: 3283344,\n",
       " 1814: 3290596,\n",
       " 1816: 3297856,\n",
       " 1818: 3305124,\n",
       " 1820: 3312400,\n",
       " 1822: 3319684,\n",
       " 1824: 3326976,\n",
       " 1826: 3334276,\n",
       " 1828: 3341584,\n",
       " 1830: 3348900,\n",
       " 1832: 3356224,\n",
       " 1834: 3363556,\n",
       " 1836: 3370896,\n",
       " 1838: 3378244,\n",
       " 1840: 3385600,\n",
       " 1842: 3392964,\n",
       " 1844: 3400336,\n",
       " 1846: 3407716,\n",
       " 1848: 3415104,\n",
       " 1850: 3422500,\n",
       " 1852: 3429904,\n",
       " 1854: 3437316,\n",
       " 1856: 3444736,\n",
       " 1858: 3452164,\n",
       " 1860: 3459600,\n",
       " 1862: 3467044,\n",
       " 1864: 3474496,\n",
       " 1866: 3481956,\n",
       " 1868: 3489424,\n",
       " 1870: 3496900,\n",
       " 1872: 3504384,\n",
       " 1874: 3511876,\n",
       " 1876: 3519376,\n",
       " 1878: 3526884,\n",
       " 1880: 3534400,\n",
       " 1882: 3541924,\n",
       " 1884: 3549456,\n",
       " 1886: 3556996,\n",
       " 1888: 3564544,\n",
       " 1890: 3572100,\n",
       " 1892: 3579664,\n",
       " 1894: 3587236,\n",
       " 1896: 3594816,\n",
       " 1898: 3602404,\n",
       " 1900: 3610000,\n",
       " 1902: 3617604,\n",
       " 1904: 3625216,\n",
       " 1906: 3632836,\n",
       " 1908: 3640464,\n",
       " 1910: 3648100,\n",
       " 1912: 3655744,\n",
       " 1914: 3663396,\n",
       " 1916: 3671056,\n",
       " 1918: 3678724,\n",
       " 1920: 3686400,\n",
       " 1922: 3694084,\n",
       " 1924: 3701776,\n",
       " 1926: 3709476,\n",
       " 1928: 3717184,\n",
       " 1930: 3724900,\n",
       " 1932: 3732624,\n",
       " 1934: 3740356,\n",
       " 1936: 3748096,\n",
       " 1938: 3755844,\n",
       " 1940: 3763600,\n",
       " 1942: 3771364,\n",
       " 1944: 3779136,\n",
       " 1946: 3786916,\n",
       " 1948: 3794704,\n",
       " 1950: 3802500,\n",
       " 1952: 3810304,\n",
       " 1954: 3818116,\n",
       " 1956: 3825936,\n",
       " 1958: 3833764,\n",
       " 1960: 3841600,\n",
       " 1962: 3849444,\n",
       " 1964: 3857296,\n",
       " 1966: 3865156,\n",
       " 1968: 3873024,\n",
       " 1970: 3880900,\n",
       " 1972: 3888784,\n",
       " 1974: 3896676,\n",
       " 1976: 3904576,\n",
       " 1978: 3912484,\n",
       " 1980: 3920400,\n",
       " 1982: 3928324,\n",
       " 1984: 3936256,\n",
       " 1986: 3944196,\n",
       " 1988: 3952144,\n",
       " 1990: 3960100,\n",
       " 1992: 3968064,\n",
       " 1994: 3976036,\n",
       " 1996: 3984016,\n",
       " 1998: 3992004,\n",
       " ...}"
      ]
     },
     "execution_count": 92,
     "metadata": {},
     "output_type": "execute_result"
    }
   ],
   "source": [
    "squres"
   ]
  },
  {
   "cell_type": "code",
   "execution_count": 90,
   "metadata": {},
   "outputs": [
    {
     "data": {
      "text/plain": [
       "True"
      ]
     },
     "execution_count": 90,
     "metadata": {},
     "output_type": "execute_result"
    }
   ],
   "source": [
    "994009 in squres"
   ]
  },
  {
   "cell_type": "code",
   "execution_count": null,
   "metadata": {},
   "outputs": [],
   "source": []
  }
 ],
 "metadata": {
  "kernelspec": {
   "display_name": "Python 3",
   "language": "python",
   "name": "python3"
  },
  "language_info": {
   "codemirror_mode": {
    "name": "ipython",
    "version": 3
   },
   "file_extension": ".py",
   "mimetype": "text/x-python",
   "name": "python",
   "nbconvert_exporter": "python",
   "pygments_lexer": "ipython3",
   "version": "3.7.4"
  }
 },
 "nbformat": 4,
 "nbformat_minor": 2
}
