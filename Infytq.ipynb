{
 "cells": [
  {
   "cell_type": "code",
   "execution_count": 108,
   "metadata": {},
   "outputs": [
    {
     "data": {
      "text/plain": [
       "'H'"
      ]
     },
     "execution_count": 108,
     "metadata": {},
     "output_type": "execute_result"
    }
   ],
   "source": [
    "class Car:\n",
    "    def __init__(self,val1):\n",
    "        self.val=val1;\n",
    "c=Car(\"H\")\n",
    "c.val\n",
    "        "
   ]
  },
  {
   "cell_type": "code",
   "execution_count": 13,
   "metadata": {},
   "outputs": [],
   "source": [
    "class Shape:\n",
    "    def _init_(self):\n",
    "        print ( \"I am in init\")\n",
    "    def draw_shape(self):\n",
    "        pass\n",
    "    def set_color(self):\n",
    "         pass\n",
    "class Circle(Shape) :\n",
    "    def draw_shape(self) :\n",
    "        print(\"Draw Circle\")"
   ]
  },
  {
   "cell_type": "code",
   "execution_count": 56,
   "metadata": {},
   "outputs": [
    {
     "name": "stdout",
     "output_type": "stream",
     "text": [
      "value of value is:  113\n",
      "value of classs level veriable is:  113\n",
      "value of local veriable is:  100\n",
      "114\n"
     ]
    }
   ],
   "source": [
    "class ClassA :\n",
    "    _param1=200\n",
    "    def __init__(self) :\n",
    "\n",
    "        self._param1 = 100\n",
    "       \n",
    "    def  method1(self) :\n",
    "        \n",
    "        \n",
    "    \n",
    "        val=ClassA._param1=(ClassA._param1+1)+self._param1\n",
    "        print(\"value of value is: \",val)\n",
    "        print(\"value of classs level veriable is: \",ClassA._param1)\n",
    "        print(\"value of local veriable is: \",self._param1)\n",
    "    @staticmethod\n",
    "    def method2():\n",
    "        print(ClassA._param1+1)\n",
    "        \n",
    "         \n",
    "obj1=ClassA()\n",
    "obj1.method1()\n",
    "ClassA.method2()"
   ]
  },
  {
   "cell_type": "code",
   "execution_count": 55,
   "metadata": {},
   "outputs": [
    {
     "name": "stdout",
     "output_type": "stream",
     "text": [
      "IN init\n"
     ]
    },
    {
     "data": {
      "text/plain": [
       "'H'"
      ]
     },
     "execution_count": 55,
     "metadata": {},
     "output_type": "execute_result"
    }
   ],
   "source": [
    "class Car:\n",
    "    def __init__(self,val):\n",
    "        print(\"IN init\")\n",
    "        self.val=val;\n",
    "c=Car(\"H\")\n",
    "c.val"
   ]
  },
  {
   "cell_type": "code",
   "execution_count": 57,
   "metadata": {},
   "outputs": [
    {
     "name": "stdout",
     "output_type": "stream",
     "text": [
      "End of function\n",
      "Invalid index\n",
      "End of program\n"
     ]
    }
   ],
   "source": [
    "def fun(input_list,index):\n",
    "    try:\n",
    "        output_list = [ 0 ]*len(input_list)\n",
    "        output_list [index] = input_list[index]/int(input_list[index+1])\n",
    "        return output_list\n",
    "    except ValueError :\n",
    "        print(\"Invalid value\")\n",
    "    except ZeroDivisionError :\n",
    "        print(\"Division by zero\")\n",
    "    finally :\n",
    "        print(\"End of function\")\n",
    "try :\n",
    "    list1 = [2,4,'6',2,8]\n",
    "    list2 = fun(list1,  4) \n",
    "except TypeError :\n",
    "    print (\"Invalid type\")\n",
    "except IndexError :\n",
    "    print (\"Invalid index\")\n",
    "finally :\n",
    "    print (\"End of program\")"
   ]
  },
  {
   "cell_type": "code",
   "execution_count": 59,
   "metadata": {},
   "outputs": [
    {
     "name": "stdout",
     "output_type": "stream",
     "text": [
      "output_list [0, 0, 0, 0, 0]\n",
      "index 4\n",
      "End of function\n",
      "Invalid index\n",
      "End of program\n"
     ]
    }
   ],
   "source": [
    "def fun(input_list,index):\n",
    "    try:\n",
    "        output_list = [ 0 ]*len(input_list)\n",
    "        print(\"output_list\",output_list)\n",
    "        print(\"index\",index)\n",
    "        output_list [index] = input_list[index]/input_list[index+1]\n",
    "        return output_list\n",
    "    except ValueError :\n",
    "        print(\"Invalid value\")\n",
    "    except ZeroDivisionError :\n",
    "        print(\"Division by zero\")\n",
    "    finally :\n",
    "        print(\"End of function\")\n",
    "try :\n",
    "    list1 = [2,4,'6',2,8]\n",
    "    list2 = fun(list1,  4) \n",
    "except TypeError :\n",
    "    print (\"Invalid type\")\n",
    "except IndexError :\n",
    "    print (\"Invalid index\")\n",
    "finally :\n",
    "    print (\"End of program\")"
   ]
  },
  {
   "cell_type": "code",
   "execution_count": 70,
   "metadata": {},
   "outputs": [
    {
     "name": "stdout",
     "output_type": "stream",
     "text": [
      "Johnny Johnny..., \n",
      "Yes Papa. \n",
      "Eating Sugar..., \n",
      "No Papa. \n",
      "Telling Lies..., \n",
      "No Papa. \n",
      "Open your mouth..., Ha. Ha. Ha.\n"
     ]
    }
   ],
   "source": [
    "class ClassA:\n",
    "    def first_method(self):\n",
    "        print(\"Johnny Johnny..., \")\n",
    "    def second_method (self):\n",
    "        print (\"Yes Papa. \")\n",
    "    def third_method (self):\n",
    "        print(\"Eating Sugar..., \")\n",
    "class ClassB (ClassA):\n",
    "    def second_method (self):\n",
    "        super () .first_method ()\n",
    "        super ().second_method ()\n",
    "        super() .third_method ()\n",
    "        print(\"No Papa. \")\n",
    "    def third_method (self):\n",
    "        print(\"Telling Lies..., \")\n",
    "class ClassC (ClassB):\n",
    "    def first_method (self):\n",
    "        print(\"Open your mouth..., Ha. Ha. Ha.\")\n",
    "    def second_method (self):\n",
    "        print (\"No Papa. \")\n",
    "    def third_method (self):\n",
    "        super().second_method()\n",
    "        super() .third_method()\n",
    "        self. second_method()\n",
    "obj_A=ClassA()\n",
    "obj_B=ClassB()\n",
    "obj_C=ClassC()\n",
    "\n",
    "obj_C.third_method()\n",
    "obj_C.first_method()\n"
   ]
  },
  {
   "cell_type": "code",
   "execution_count": 71,
   "metadata": {},
   "outputs": [
    {
     "name": "stdout",
     "output_type": "stream",
     "text": [
      "Yes Papa. \n",
      "Eating Sugar..., \n",
      "No Papa. \n",
      "Telling Lies..., \n",
      "No Papa. \n",
      "Open your mouth..., Ha. Ha. Ha.\n"
     ]
    }
   ],
   "source": [
    "class ClassA:\n",
    "    def first_method(self):\n",
    "        print(\"Johnny Johnny..., \")\n",
    "    def second_method (self):\n",
    "        print (\"Yes Papa. \")\n",
    "    def third_method (self):\n",
    "        print(\"Eating Sugar..., \")\n",
    "class ClassB (ClassA):\n",
    "    def second_method (self):\n",
    "        super () .first_method ()\n",
    "        super ().second_method ()\n",
    "        super() .third_method ()\n",
    "        print(\"No Papa. \")\n",
    "    def third_method (self):\n",
    "        print(\"Telling Lies..., \")\n",
    "class ClassC (ClassB):\n",
    "    def first_method (self):\n",
    "        print(\"Open your mouth..., Ha. Ha. Ha.\")\n",
    "    def second_method (self):\n",
    "        print (\"No Papa. \")\n",
    "    def third_method (self):\n",
    "        super().second_method()\n",
    "        super() .third_method()\n",
    "        self. second_method()\n",
    "obj_A=ClassA()\n",
    "obj_B=ClassB()\n",
    "obj_C=ClassC()\n",
    "\n",
    "obj_C.third_method()\n",
    "obj_C.first_method()\n"
   ]
  },
  {
   "cell_type": "code",
   "execution_count": 73,
   "metadata": {},
   "outputs": [
    {
     "name": "stdout",
     "output_type": "stream",
     "text": [
      "-1\n"
     ]
    }
   ],
   "source": [
    "def func(var1, var2, var3):\n",
    "    if(var1<=var2):\n",
    "        if(var3>-var2):\n",
    "            if(var1+var2>-var3):\n",
    "                print(-1)\n",
    "            else:\n",
    "                print(-2)\n",
    "        else:\n",
    "            if(var1+var3>var2):\n",
    "                print (-3)\n",
    "            else:\n",
    "                print (-4)\n",
    "\n",
    "func(156,2100,9500)"
   ]
  },
  {
   "cell_type": "code",
   "execution_count": 75,
   "metadata": {},
   "outputs": [],
   "source": [
    "def generate (input_linked_list , input_stack):\n",
    "    temp= input_linked_list.get_head ( )\n",
    "    element=0\n",
    "    while(temp.get_next ( ) is not None):\n",
    "        temp.set_data (temp.get_data ( )+temp.get_next ( ). get_data ( )+element)\n",
    "        if temp.get_data ( ) %2 !=0:\n",
    "            temp.set_data(temp.get_data ( ) +input_stack.pop ( ) )\n",
    "            element=temp.get_data ( )\n",
    "        else:\n",
    "            input_stack.push (element )\n",
    "            element=temp.get_next ( ).get_data ( )\n",
    "        temp=temp.get_next ( )\n",
    "    temp.set_data(temp.get_data ( )+input_stack.pop ( ) )\n",
    "\n"
   ]
  },
  {
   "cell_type": "code",
   "execution_count": 146,
   "metadata": {},
   "outputs": [],
   "source": [
    "class ClassOne:\n",
    "    __var_one=1001\n",
    "    def __init__(self,var_two):\n",
    "        self.__var_two=var_two\n",
    "        self.__var_five=5\n",
    "    def method_one(self) :\n",
    "        var_four=50\n",
    "        self.__var_five=ClassOne.__var_one+self.__var_two+var_four\n",
    "        print(self.__var_five)\n",
    "    def hello(self):\n",
    "        print(self.__var_five)"
   ]
  },
  {
   "cell_type": "code",
   "execution_count": 149,
   "metadata": {},
   "outputs": [
    {
     "name": "stdout",
     "output_type": "stream",
     "text": [
      "5\n",
      "1052\n"
     ]
    }
   ],
   "source": [
    "c=ClassOne(1)\n",
    "\n",
    "c.hello()\n",
    "c.method_one()"
   ]
  },
  {
   "cell_type": "code",
   "execution_count": 150,
   "metadata": {},
   "outputs": [
    {
     "name": "stdout",
     "output_type": "stream",
     "text": [
      "16\n"
     ]
    }
   ],
   "source": [
    "def fun(num) :\n",
    "   \tif num<1 :\n",
    "         \treturn 0\n",
    "   \telif num%2 == 0 :\n",
    "         \treturn fun (num-1)\n",
    "   \telse :\n",
    "         \treturn num +fun(num-2)\n",
    "print (fun (8) )"
   ]
  },
  {
   "cell_type": "code",
   "execution_count": 161,
   "metadata": {},
   "outputs": [],
   "source": [
    "class Vehicle ( ):\n",
    "    def __init__(self, color):\n",
    "        self.color=color\n",
    "class FourWheeler(Vehicle):\n",
    "    def __init__(self,no_of_gears,color):\n",
    "        super().__init__(color)\n",
    "        self.no_of_gears=no_of_gears\n",
    "class TwoWheeler(Vehicle):\n",
    "    def __init__(self,engine_cc):\n",
    "        super().__init__(\"Red\")\n",
    "        self.engine_cc=engine_cc\n",
    "        self.color=\"Blue\"\n",
    " \n"
   ]
  },
  {
   "cell_type": "code",
   "execution_count": 162,
   "metadata": {},
   "outputs": [
    {
     "name": "stdout",
     "output_type": "stream",
     "text": [
      "Red 4\n",
      "Blue 80\n"
     ]
    }
   ],
   "source": [
    "maruti=FourWheeler(4, \"Red\")\n",
    "print (maruti.color,maruti.no_of_gears)\n",
    "activa=TwoWheeler(80)\n",
    "print(activa.color, activa.engine_cc)"
   ]
  },
  {
   "cell_type": "code",
   "execution_count": 167,
   "metadata": {},
   "outputs": [
    {
     "name": "stdout",
     "output_type": "stream",
     "text": [
      "Red 4\n"
     ]
    },
    {
     "ename": "AttributeError",
     "evalue": "'TwoWheeler' object has no attribute 'enigne_cc'",
     "output_type": "error",
     "traceback": [
      "\u001b[1;31m---------------------------------------------------------------------------\u001b[0m",
      "\u001b[1;31mAttributeError\u001b[0m                            Traceback (most recent call last)",
      "\u001b[1;32m<ipython-input-167-31ff17881832>\u001b[0m in \u001b[0;36m<module>\u001b[1;34m\u001b[0m\n\u001b[0;32m     14\u001b[0m \u001b[0mprint\u001b[0m \u001b[1;33m(\u001b[0m\u001b[0mmaruti\u001b[0m\u001b[1;33m.\u001b[0m\u001b[0mcolor\u001b[0m\u001b[1;33m,\u001b[0m\u001b[0mmaruti\u001b[0m\u001b[1;33m.\u001b[0m\u001b[0mno_of_gears\u001b[0m\u001b[1;33m)\u001b[0m\u001b[1;33m\u001b[0m\u001b[1;33m\u001b[0m\u001b[0m\n\u001b[0;32m     15\u001b[0m \u001b[0mactiva\u001b[0m\u001b[1;33m=\u001b[0m\u001b[0mTwoWheeler\u001b[0m\u001b[1;33m(\u001b[0m\u001b[1;36m80\u001b[0m\u001b[1;33m)\u001b[0m\u001b[1;33m\u001b[0m\u001b[1;33m\u001b[0m\u001b[0m\n\u001b[1;32m---> 16\u001b[1;33m \u001b[0mprint\u001b[0m\u001b[1;33m(\u001b[0m\u001b[0mactiva\u001b[0m\u001b[1;33m.\u001b[0m\u001b[0mcolor\u001b[0m\u001b[1;33m,\u001b[0m \u001b[0mactiva\u001b[0m\u001b[1;33m.\u001b[0m\u001b[0menigne_cc\u001b[0m\u001b[1;33m)\u001b[0m\u001b[1;33m\u001b[0m\u001b[1;33m\u001b[0m\u001b[0m\n\u001b[0m",
      "\u001b[1;31mAttributeError\u001b[0m: 'TwoWheeler' object has no attribute 'enigne_cc'"
     ]
    }
   ],
   "source": [
    "class Vehicle ( ):\n",
    "    def __init__(self, color):\n",
    "        self.color=color\n",
    "class FourWheeler(Vehicle):\n",
    "    def __init__(self,no_of_gears,color):\n",
    "        super().__init__(color)\n",
    "        self.no_of_gears=no_of_gears\n",
    "class TwoWheeler(Vehicle):\n",
    "    def __init__(self,engine_cc):\n",
    "        super().__init__(\"Red\")\n",
    "        self.engine_cc=engine_cc\n",
    "       \n",
    "maruti=FourWheeler(4, \"Red\")\n",
    "print (maruti.color,maruti.no_of_gears)\n",
    "activa=TwoWheeler(80)\n",
    "print(activa.color, activa.enigne_cc)"
   ]
  },
  {
   "cell_type": "code",
   "execution_count": 168,
   "metadata": {},
   "outputs": [
    {
     "name": "stdout",
     "output_type": "stream",
     "text": [
      "Red 4\n"
     ]
    },
    {
     "ename": "AttributeError",
     "evalue": "'TwoWheeler' object has no attribute 'enigne_cc'",
     "output_type": "error",
     "traceback": [
      "\u001b[1;31m---------------------------------------------------------------------------\u001b[0m",
      "\u001b[1;31mAttributeError\u001b[0m                            Traceback (most recent call last)",
      "\u001b[1;32m<ipython-input-168-ef54786c3244>\u001b[0m in \u001b[0;36m<module>\u001b[1;34m\u001b[0m\n\u001b[0;32m      2\u001b[0m \u001b[0mprint\u001b[0m \u001b[1;33m(\u001b[0m\u001b[0mmaruti\u001b[0m\u001b[1;33m.\u001b[0m\u001b[0mcolor\u001b[0m\u001b[1;33m,\u001b[0m\u001b[0mmaruti\u001b[0m\u001b[1;33m.\u001b[0m\u001b[0mno_of_gears\u001b[0m\u001b[1;33m)\u001b[0m\u001b[1;33m\u001b[0m\u001b[1;33m\u001b[0m\u001b[0m\n\u001b[0;32m      3\u001b[0m \u001b[0mactiva\u001b[0m\u001b[1;33m=\u001b[0m\u001b[0mTwoWheeler\u001b[0m\u001b[1;33m(\u001b[0m\u001b[1;36m80\u001b[0m\u001b[1;33m)\u001b[0m\u001b[1;33m\u001b[0m\u001b[1;33m\u001b[0m\u001b[0m\n\u001b[1;32m----> 4\u001b[1;33m \u001b[0mprint\u001b[0m\u001b[1;33m(\u001b[0m\u001b[0mactiva\u001b[0m\u001b[1;33m.\u001b[0m\u001b[0mcolor\u001b[0m\u001b[1;33m,\u001b[0m \u001b[0mactiva\u001b[0m\u001b[1;33m.\u001b[0m\u001b[0menigne_cc\u001b[0m\u001b[1;33m)\u001b[0m\u001b[1;33m\u001b[0m\u001b[1;33m\u001b[0m\u001b[0m\n\u001b[0m",
      "\u001b[1;31mAttributeError\u001b[0m: 'TwoWheeler' object has no attribute 'enigne_cc'"
     ]
    }
   ],
   "source": [
    "maruti=FourWheeler(4, \"Red\")\n",
    "print (maruti.color,maruti.no_of_gears)\n",
    "activa=TwoWheeler(80)\n",
    "print(activa.color, activa.enigne_cc)"
   ]
  },
  {
   "cell_type": "code",
   "execution_count": 177,
   "metadata": {},
   "outputs": [],
   "source": [
    "def display_cat_details(color,  *names) : #Line 1\n",
    "    pass\n",
    "display_cat_details(\"Brown\", \"Fluffy\",\"Snow\")"
   ]
  },
  {
   "cell_type": "code",
   "execution_count": 197,
   "metadata": {},
   "outputs": [
    {
     "name": "stdout",
     "output_type": "stream",
     "text": [
      "6\n",
      "________\n",
      "0\n",
      "3\n",
      "12\n"
     ]
    }
   ],
   "source": [
    "import queue\n",
    "my_queue1=queue.Queue(maxsize=3)\n",
    "my_queue2=queue.Queue(maxsize=3)\n",
    "\n",
    "for index in range(0, 3):\n",
    "    my_queue1.put(index *3)\n",
    "for index in range(0, 3):\n",
    "    if(index == 2):\n",
    "        break\n",
    "    my_queue2.put(my_queue1.get( ) )\n",
    "my_queue2.put(12)\n",
    "\n",
    "while not my_queue1.empty():\n",
    "    print(my_queue1.get())\n",
    "print(\"________\")\n",
    "while not my_queue2.empty():\n",
    "    print(my_queue2.get())\n",
    "    \n"
   ]
  },
  {
   "cell_type": "code",
   "execution_count": 208,
   "metadata": {
    "scrolled": true
   },
   "outputs": [
    {
     "name": "stdout",
     "output_type": "stream",
     "text": [
      "*\n",
      "*\n",
      "*\n",
      "*\n",
      "*\n",
      "*\n",
      "*\n"
     ]
    }
   ],
   "source": [
    "num1=5\n",
    "num2=4\n",
    "i=0;\n",
    "while (num2>= 1) :\n",
    "    print(\"*\")\n",
    "    for index in range (1, num1+1) :\n",
    "        print(\"*\")\n",
    "        num2 -= 1\n",
    "    print(\"*\")"
   ]
  },
  {
   "cell_type": "code",
   "execution_count": 217,
   "metadata": {},
   "outputs": [
    {
     "name": "stdout",
     "output_type": "stream",
     "text": [
      "Function executed successfully\n",
      "Disperse the product\n"
     ]
    }
   ],
   "source": [
    "def vending_machine(insert_money,item_id) :\n",
    "    if item_id == 101 and insert_money:\n",
    "        print(\"Function executed successfully\")\n",
    "          \n",
    "    return \"Disperse the product\"\n",
    "\n",
    "    \n",
    "insert_money =True\n",
    "item_id = 101\n",
    "print(vending_machine(insert_money,item_id))"
   ]
  },
  {
   "cell_type": "code",
   "execution_count": null,
   "metadata": {},
   "outputs": [],
   "source": []
  }
 ],
 "metadata": {
  "kernelspec": {
   "display_name": "Python 3",
   "language": "python",
   "name": "python3"
  },
  "language_info": {
   "codemirror_mode": {
    "name": "ipython",
    "version": 3
   },
   "file_extension": ".py",
   "mimetype": "text/x-python",
   "name": "python",
   "nbconvert_exporter": "python",
   "pygments_lexer": "ipython3",
   "version": "3.7.4"
  }
 },
 "nbformat": 4,
 "nbformat_minor": 2
}
