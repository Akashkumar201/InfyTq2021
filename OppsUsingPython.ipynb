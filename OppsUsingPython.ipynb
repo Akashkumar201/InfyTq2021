{
 "cells": [
  {
   "cell_type": "code",
   "execution_count": 9,
   "metadata": {},
   "outputs": [
    {
     "name": "stdout",
     "output_type": "stream",
     "text": [
      "Good\n",
      "78.0\n"
     ]
    }
   ],
   "source": [
    "class Student:\n",
    "    school=\"TRIDENT ACADEMY OF TECHNOLOGY BHUBANESWAR\"\n",
    "    def __init__(self,m1,m2,m3):\n",
    "        self.m1=m1\n",
    "        self.m2=m2\n",
    "        self.m3=m3\n",
    "    def avg(self):\n",
    "        return (self.m1+self.m2+self.m3)/3\n",
    "    def grade(self):\n",
    "        if self.avg()>90:\n",
    "            print(\"Exellent\")\n",
    "        elif self.avg()>50:\n",
    "            print(\"Good\")\n",
    "        else:\n",
    "            print(\"Batter Luck Next time\")\n",
    "s=Student(100,99,35)\n",
    "s.grade()\n",
    "print(s.avg())\n",
    "        \n",
    "        \n",
    "    "
   ]
  },
  {
   "cell_type": "code",
   "execution_count": null,
   "metadata": {},
   "outputs": [],
   "source": []
  },
  {
   "cell_type": "code",
   "execution_count": null,
   "metadata": {},
   "outputs": [],
   "source": []
  }
 ],
 "metadata": {
  "kernelspec": {
   "display_name": "Python 3",
   "language": "python",
   "name": "python3"
  },
  "language_info": {
   "codemirror_mode": {
    "name": "ipython",
    "version": 3
   },
   "file_extension": ".py",
   "mimetype": "text/x-python",
   "name": "python",
   "nbconvert_exporter": "python",
   "pygments_lexer": "ipython3",
   "version": "3.7.4"
  }
 },
 "nbformat": 4,
 "nbformat_minor": 2
}
